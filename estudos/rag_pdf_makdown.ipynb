{
 "cells": [
  {
   "cell_type": "code",
   "execution_count": 11,
   "metadata": {},
   "outputs": [
    {
     "name": "stdout",
     "output_type": "stream",
     "text": [
      "Warning: mprt could not be imported. Install with 'pip install git+https://github.com/vioshyvo/mrpt/'. Falling back to Faiss.\n"
     ]
    }
   ],
   "source": [
    "import fitz\n",
    "from typing import List\n",
    "from vectordb import Memory\n",
    "\n",
    "import pymupdf4llm\n"
   ]
  },
  {
   "cell_type": "code",
   "execution_count": 12,
   "metadata": {},
   "outputs": [],
   "source": [
    "\n",
    "def formatar(txt):\n",
    "  txt['text'] = f\" $$ pag{str(txt['metadata']['page'])} arq-{txt['metadata']['file_path']} \\n\\n\\n\" + txt['text']\n",
    "  \n",
    "  return txt\n",
    "\n"
   ]
  },
  {
   "cell_type": "code",
   "execution_count": 13,
   "metadata": {},
   "outputs": [],
   "source": [
    "md_text = pymupdf4llm.to_markdown(\"credenciamento.pdf\", page_chunks=True, write_images=False)\n",
    "\n",
    "md_text = [formatar(i)  for i in md_text]\n",
    "\n",
    "\n",
    "brute = ''\n",
    "for i in md_text:\n",
    "  brute += i['text']"
   ]
  },
  {
   "cell_type": "code",
   "execution_count": 14,
   "metadata": {},
   "outputs": [],
   "source": [
    "# md_tex_2t = pymupdf4llm.to_markdown(\"credenciamento.pdf\", page_chunks=False, write_images=False)\n",
    "\n",
    "\n",
    "from langchain.text_splitter import MarkdownHeaderTextSplitter, RecursiveCharacterTextSplitter\n",
    "\n",
    "\n",
    "\n",
    "padrao = [('$$', 'pagina')]\n",
    "\n",
    "md_spliter = MarkdownHeaderTextSplitter(headers_to_split_on=padrao)\n",
    "\n",
    "sections = md_spliter.split_text(brute)\n",
    "\n",
    "\n"
   ]
  },
  {
   "cell_type": "code",
   "execution_count": 15,
   "metadata": {},
   "outputs": [],
   "source": [
    "# chunk_size = 20\n",
    "# chunk_overlap = 3\n",
    "\n",
    "# text = 'Once you have your data in Markdown format you are ready to chunk/split it and supply it to your LLM, for example, if this is LangChain then do the following:'\n",
    "\n",
    "# splitter = RecursiveCharacterTextSplitter(chunk_size=chunk_size, chunk_overlap=chunk_overlap)\n",
    "\n",
    "# chunks = splitter.split_text(text)\n"
   ]
  },
  {
   "cell_type": "code",
   "execution_count": 16,
   "metadata": {},
   "outputs": [
    {
     "name": "stderr",
     "output_type": "stream",
     "text": [
      "/home/gabriel/Documentos/estudostccc/env/lib/python3.12/site-packages/huggingface_hub/file_download.py:1132: FutureWarning: `resume_download` is deprecated and will be removed in version 1.0.0. Downloads always resume when possible. If you want to force a new download, use `force_download=True`.\n",
      "  warnings.warn(\n"
     ]
    }
   ],
   "source": [
    "memory = Memory(chunking_strategy={\"mode\": 'sliding_window', \"window_size\": 500, \"overlap\": 8})\n",
    "\n",
    "\n"
   ]
  },
  {
   "cell_type": "code",
   "execution_count": 17,
   "metadata": {},
   "outputs": [
    {
     "data": {
      "text/plain": [
       "[{'chunk': 'haja interesse da Administração e mantidas as condições e exigências previstas na legislação . 12.1 A inobservância à manutenção das condições e exigências dispostas na parte final do “ caput ” deste artigo caracteriza descumprimento de obrigação e deve ser condenada com a revogação do ato de credenciamento . 12.2 As prorrogações devem ser requeridas pela credenciada , ao menos , 90 ( noventa ) dias antes do término do prazo do credenciamento vigente . 12.3 No ato do requerimento de prorrogação a que se refere o § 2º deste artigo , a entidade interessada em manter o credenciamento deve verificar eventuais alterações ou datas de validade dos documentos anteriormente apresentados e instruir o requerimento com nova documentação para a habilitação , qualificação ou regularidade exigida por este Edital . # # # # # 13 . DISPOSIÇÕES FINAIS 13.1 A SEFAZ / SE pode estabelecer a forma e condições para a fiscalização e prestação de contas das atividades disciplinadas neste Edital . 13.2 Fica indicado o Banco do Estado de Sergipe – BANESE como agente recolhedor dos recursos oriundos das transações realizadas com base neste Edital . Isso não impede a indicação de outros bancos oficiais que possam , no futuro , tornarem - se agentes recolhedores dos DAE´s ; 13.3 A SEFAZ / SE disporá , em seu sítio na internet , a relação das entidades contratadas com objeto de operar com cartão de crédito para pagamento parcelado ou débito das dívidas dos usuários ; 13.4 A SEFAZ / SE não se responsabiliza por quaisquer danos e / ou prejuízos causados a terceiros em consequência dos serviços prestados pela CONTRATADA , devendo esta reparar quaisquer danos que , no exercício de sua atividade , venha causar a terceiros ou a SEFAZ / SE ; 13.5 A SEFAZ / SE e as entidades contratadas têm até 30 ( trinta ) dias contados da concretização do credenciamento para providenciar as alterações e integrações sistêmicas necessárias à implantação desta modalidade de pagamento . * * LISTA DE ANEXOS :* * ANEXO I – MODELO DE REQUERIMENTO PARA CREDENCIAMENTO ANEXO II – MINUTA DO CONTRATO ADMINISTRATIVO ANEXO III – MANUAL DE PAGAMENTO DE IMPOSTOS COM CARTÃO DE CRÉDITO * * Aracaju , 14 de dezembro de 2020 . * * * * Marco Antônio Queiroz * * * * Secretário de Estado da Fazenda de Sergipe * * ( assinado digitalmente ) -----',\n",
       "  'metadata': {'pagina': 'pag19 arq-credenciamento.pdf'}},\n",
       " {'chunk': '4.12 Não pode participar do credenciamento : 4.12.1 pessoa física ; ou 4.12.2 pessoa jurídica : a ) com atividade econômica incompatível com o objeto de credenciamento deste Edital ; b ) reunida em consórcio ; c ) estrangeira que não tenha autorização legal para funcionamento no país ; d ) com falência , concordata ou recuperação judicial , ou extrajudicial , decretada judicialmente ; e ) em dissolução ou liquidação ; f ) impedida ou suspensa de participar de licitação e contratar com o Estado de Sergipe , ou suspensa ou que tenha sido declarada inidônea para licitar ou contratar com a Administração Pública , direta ou indireta , municipal , estadual ou federal ; ou g ) inscrita no Cadastro Nacional de Condenações Cíveis por Atos de Improbidade Administrativa , mantido pelo Conselho Nacional de Justiça . 4.13 A SEFAZ / SE , quando entender necessário , pode estabelecer outros requisitos para o credenciamento . 4.14 Todos os documentos emitidos em língua estrangeira devem ser entregues acompanhados de tradução em língua portuguesa , efetuada por tradutor comprovadamente habilitado , e estarem consularizados , notarizados e , quando aplicável , registrados no Cartório de Títulos e Documentos competente . 4.15 O credenciamento da Adquirente implica na aceitação plena e irrevogável das normas constantes do presente Regulamento . 4.16 Os requerimentos em desacordo com as regras previstas neste Edital devem ser indeferidos . 4.17 A SEFAZ / SE deve expedir certidão de credenciamento à entidade que atenda aos requisitos exigidos neste Edital , publicando extrato no DOE / SE que especifique , ao menos , o nome , CNPJ e objeto . # # # # # 5 . DO DESCREDENCIAMENTO 5.1 As entidades credenciadas , que posteriormente venham descumprir regras do credenciamento ou cometer infração contratual apenada com declaração de inidoneidade para licitar ou contratar com a Administração Pública , devem ter seu credenciamento cancelado . 5.2 As entidades podem ser descredenciadas pela SEFAZ / SE : 5.2.1 a pedido , mesmo que sem justificativa ; ou 5.2.2 de ofício , quando do descumprimento : a ) das exigências previstas para credenciamento , estabelecidas neste Regulamento ; ou b ) das vedações ou deveres previstos neste Regulamento , no Decreto Estadual Nº 40.690/2020 , em atos complementares editados pela SEFAZ / SE ou no contrato administrativo . 5.3 As despesas decorrentes do descredenciamento são de responsabilidade exclusiva da entidade . -----',\n",
       "  'metadata': {'pagina': 'pag10 arq-credenciamento.pdf'}},\n",
       " {'chunk': '* * ANEXO I - REQUERIMENTO PARA CREDENCIAMENTO DE ENTIDADE * * * * PARA SOLUÇÃO DE PAGAMENTO DE DÉBITOS TRIBUTÁRIOS * * * * ESTADUAIS COM USO DE CARTÃO DE CRÉDITO JUNTO À SEFAZ / SE . * * * * Ao Secretário de Estado da SEFAZ / SE , * * * * Solicito concessão de credenciamento no pedido constante do presente * * * * requerimento e declaro , para todos os fins em admitido e sob as penas da lei , que * * * * cumprirei todas as normas emanadas pela SEFAZ / SE . * * * * INFORMAÇÕES DA ENTIDADE * * |RAZÃO SOCIAL|Col2|Col3|NOME DE FANTASIA|Col5|Col6| |---|---|---|---|---|---| |CNPJ:|INSCRIÇÃO ESTADUAL:|||INSCRIÇÃO MUNICIPAL:|| |ENDEREÇO:|||||| |COMPLEMENTO:|||||| |CIDADE / UF:||BAIRRO:|||CEP:| |FONE FIXO:||FONE CELULAR:|||| |E - MAIL:|||||| |REPRESENTANTE LEGAL:||CPF:|||| |DECLARAÇÃO DE AUTENTICIDADE O requerente , através de seu representante subescrevente , declara a autenticidade de todos os documentos e informações apresentados à SEFAZ / SE , sob as penas da Lei . Fica ciente , ainda , que a SEFAZ / SE poderá , a qualquer tempo , solicitar a apresentação das vias originais dos documentos protocolados virtualmente para análise.|||||| * * Aracaju / Se , de * * * * de * * * * _ Assinatura Digital do Responsável Legal da Entidade _ * * -----',\n",
       "  'metadata': {'pagina': 'pag20 arq-credenciamento.pdf'}},\n",
       " {'chunk': '# # # # # Manual de Pagamento de Impostos com Cartão de Crédito INTRODUÇÃO Esse documento foi criado e desenvolvido pela Superintendência de Tecnologia da Secretaria de Estado da Fazenda de Sergipe . É vedada a sua reprodução parcial ou total , bem como sua distribuição a pessoas ou organizações estranhas às operações da SEFAZ sem a expressa autorização . A divulgação , reprodução ou permissão de consulta a terceiros estranhos à empresa , empregados não autorizados ou qualquer outro ato que leve a revelação do seu conteúdo sem a aprovação , implicará na responsabilidade de quem assim proceder , com os decorrentes ônus civis e penais . -----',\n",
       "  'metadata': {'pagina': 'pag39 arq-credenciamento.pdf'}},\n",
       " {'chunk': 'como pela análise da proposta de adesão , determinação do limite de crédito e relacionamento com seu portador sobre qualquer questão relativa à posse e ao uso do referido cartão ; 2.6 Instituição financeira : a pessoa jurídica de direito privado supervisionada pelo Banco Central do Brasil ( BACEN ) , que tem atividade econômica de banco múltiplo e comercial , com o fim de otimizar a alocação de capitais financeiros próprios e / ou de terceiros , obedecendo uma correlação de risco , custo e prazo , e que realiza , entre outros serviços , a emissão e administração de cartões com função de crédito , débito e / ou pré - pago , de rede própria ou de terceiros ; empréstimo e financiamento a interessados , disponibilizando dinheiro para pagamento de obrigações , dentre as quais às de natureza tributária ; recebimento de pagamento de obrigações para com terceiros e liquidação de guias ou documentos próprios , segundo regras do Sistema de Pagamentos Brasileiro ( SPB ) e / ou de outros órgãos competentes ; 2.7 Instituição ou entidade não financeira : a pessoa jurídica de direito privado que desempenha atividade econômica de caráter não financeiro , que pode emitir e administrar cartão de crédito próprio e que representa portadores de cartões perante instituições financeiras , para contratação e obtenção de financiamento , cobrando - lhes encargos decorrentes dos serviços prestados ; 2.8 Adquirente : a pessoa jurídica de direito privado , sujeita ao processo de autorização e supervisão do BACEN , que liquida transações financeiras realizadas com uso do cartão de crédito , procedendo , previamente ao processamento da liquidação , à comunicação entre a bandeira e a emissora do cartão , com o objetivo de obter aprovação do pagamento do negócio efetuado pelo portador , após comprovação da suficiência de limite ; que fornece as maquininhas de cartão de crédito e que , posteriormente à aprovação da transação , recebe o dinheiro da instituição bancária correlata e repassa , no prazo preestabelecido , o valor descrito no DAE à conta bancária devida ; 2.9 Subadquirente , a pessoa jurídica de direito privado não sujeita ao processo de autorização e supervisão do BACEN , que , segundo a Circular BACEN nº 3.682 , de 4 de novembro de 2013 , com redação da Circular BACEN nº 3.886 , de 26 de março de 2018 , deve ser habilitada por adquirente para realizar transações financeiras com cartões de crédito em nome de terceiros , permitindo - lhe capturar e processar pagamentos por meio eletrônico , mediante a intermediação entre o adquirente , bandeiras e bancos emissores , e fazer a transmissão de dados da transação efetuada ; que não participa do processo de liquidação das transações de pagamento como credor perante o emissor e que deve oferecer garantia dos serviços antifraude , conciliação financeira , entre outros ; 2.10 Gateway : a plataforma diretamente interligada com a adquirente que é responsável pelo fornecimento da interface e pela solução',\n",
       "  'metadata': {'pagina': 'pag2 arq-credenciamento.pdf'}},\n",
       " {'chunk': '# # # # # 4 . DAS CONDIÇÕES E DOCUMENTAÇÃO PARA CREDENCIAMENTO 4.1 O credenciamento tem natureza jurídica precária e não implica compromisso , obrigação financeira ou transferência de recursos entre as partes , bem como não gera direito , de uma para outra , à indenização , contraprestação pecuniária , ressarcimento ou reembolso . 4.2 As entidades interessadas no credenciamento deverão possuir autorização do Banco Central do Brasil para constituição e funcionamento , nos termos da Legislação aplicável , ou possuir habilitação , por instituição credenciadora supervisionada pelo Banco Central do Brasil , para processar pagamentos , inclusive parcelados , mediante uso de cartões crédito normalmente aceitos no mercado , sem restrição de bandeiras . 4.3 Poderão credenciar - se as entidades do ramo pertinente ao objeto e que atenderem a todas as exigências constantes deste Regulamento e seus anexos . 4.4 O requerimento , com pedido de credenciamento , deve : 4.4.1 ser dirigido ao Secretário de Estado da Fazenda e protocolado eletronicamente , nos termos do item 7 deste edital ; 4.4.2 conter a razão social da requerente , o número do Cadastro Nacional de Pessoa Jurídica ( CNPJ ) , o objeto e a(s ) assinatura(s ) do(s ) representante(s ) legal(is ) ; e 4.4.3 comprovar : a ) habilitação jurídica ; b ) regularidade fiscal e trabalhista ; c ) qualificação econômico - financeira ; e d ) qualificação técnica . 4.5 A habilitação jurídica deve ser comprovada , ao menos , por : 4.5.1 cópia do ato constitutivo , estatuto ou contrato social vigente , inclusive com as alterações posteriores , devidamente registrado no órgão competente ; 4.5.2 cópia autenticada do documento de nomeação do dirigente , em se tratando de sociedade empresária , ou da ata da assembleia da última eleição da diretoria , em se tratando de sociedade por ações , conforme o caso ; 4.5.3 cópia autenticada da cédula de identidade , expedida pelo órgão competente , e do cadastro de pessoa física ( CPF ) , expedido pelo Ministério da Fazenda , do dirigente e sócios , quando se tratar de sociedade empresária , ou do representante legal , diretor ou presidente , quando se tratar de sociedade por ações ; 4.5.4 ato de outorga de poderes ao representante legal para praticar todos os atos necessários , em nome da requerente , no processo de credenciamento e no processo de contratação administrativa , bem como para o exercício de direitos e assunção de obrigações decorrentes do referido contrato ; e 4.5.5 decreto de autorização do órgão competente , quando se tratar de sociedade estrangeira para funcionamento no país . 4.6 A requerente também deve apresentar documento que constitua e habilite matriz ou filial para proceder ao credenciamento , contratação e gerenciamento da execução contratual , indicando o número de inscrição no CNPJ / MF ; o endereço completo , logradouro , complemento , bairro , cidade , unidade da federação e CEP ; o número de telefone e',\n",
       "  'metadata': {'pagina': 'pag6 arq-credenciamento.pdf'}},\n",
       " {'chunk': 'responsável pelo fornecimento da interface e pela solução de processamento do pagamento “ online ” , controlando toda operação com cartões de crédito e protegendo as informações do cartão e outros dados por meio de criptografia ; 2.11 Bandeira : a detentora do direito de propriedade e franqueadora da marca ou logomarca , que oferece a organização e estrutura e estabelece regras de filiação de estabelecimentos , de padrão operacional para uso e de segurança necessária ao funcionamento do sistema de cartão de crédito ; que define , em conjunto com as instituições financeiras , o limite de crédito do portador , a quantidade de parcelas que pode ser concedida para pagamento , o número de estabelecimentos que aceitam determinado cartão , no âmbito nacional ou internacional , e que autoriza a realização da transação solicitada pelo portador ; -----',\n",
       "  'metadata': {'pagina': 'pag2 arq-credenciamento.pdf'}},\n",
       " {'chunk': 'V ) Declaração de inidoneidade para licitar ou contratar com a Administração Pública enquanto perdurarem os motivos determinantes da punição ou até que seja promovida a reabilitação perante a própria autoridade que aplicou a penalidade , que será concedida sempre que a CONTRATADA ressarcir a SEFAZ / SE pelos prejuízos resultantes e depois de decorrido o prazo da penalidade de suspensão do subitem anterior ; VI ) Cancelamento do credenciamento , quando ocorrer : a ) Quarta ocorrência da irregularidade punida com aplicação de sanção administrativa de suspensão ; b ) Fraudar o sistema de pagamento e o sistema financeiro ; c ) Deixar de manter sigilo das informações , fornecendo a terceiros dados dos usuários , que são exclusivos da SEFAZ . 8.1 As multas estabelecidas serão entendidas como independentes , podendo ser cumulativas . 8.2 As multas e outras penalidades somente poderão deixar de ser aplicadas , em decisão motivada , nos casos fortuitos ou de força maior , devidamente comprovados por escrito e para os quais a Contratada não tenha concorrido ; 8.3 A Contratada deverá comunicar os fatos de força maior e caso fortuito , imediatamente após a sua verificação , apresentando os respectivos documentos comprobatórios em até 5 ( cinco ) dias úteis a partir da data de sua ocorrência , sob pena de não serem considerados . 8.4 O processo de aplicação da sanção será de competência da unidade administrativa gerenciadora dos pagamentos de tributos via cartão de crédito e o recurso , cujo prazo para interposição é de 10 ( dez ) dias úteis , será apreciado pelo SECRETÁRIO DE ESTADO DA FAZENDA . * * DA RESCISÃO DO CONTRATO * * CLÁUSULA NONA . O presente Termo de Contrato poderá ser rescindido nas hipóteses previstas no art . 78 da Lei nº 8.666 , de 1993 , com as consequências indicadas no art . 80 da mesma Lei , sem prejuízo da aplicação das sanções previstas neste instrumento . -----',\n",
       "  'metadata': {'pagina': 'pag30 arq-credenciamento.pdf'}},\n",
       " {'chunk': 'da operação de pagamento de créditos tributários com o uso do cartão de crédito junto a SEFAZ / SE , sob sua responsabilidade e às suas expensas , como forma de demonstrar o perfeito funcionamento do sistema de pagamento , devendo realizar os ajustes requisitados , sob pena de indeferimento do credenciamento . 4.10 Além das exigências dispostas nesta Seção , a requerente também deve apresentar termo de responsabilidade , assinado pelo dirigente ou representante legal , declarando que : -----',\n",
       "  'metadata': {'pagina': 'pag8 arq-credenciamento.pdf'}},\n",
       " {'chunk': 'CLÁUSULA SEGUNDA . É inexigível a licitação para prestação dos serviços objeto deste Contrato , com base no \" caput \" do art . 25 da Lei federal nº 8.666 , de 21 de junho de 1993 , em razão de a referida prestação estar aberta à participação de todas as instituições operadoras de cartão de crédito , que queiram prestar os serviços contratados e atendam as condições técnicas e das exigências para tal fim , caracterizando - se , deste modo , a inviabilidade de competição reconhecida pelo(a ) Secretário(a ) de Estado da Fazenda , nos termos do art . 26 da Lei federal nº 8.666 , de 1993 , conforme despacho exarado nos autos do Processo Administrativo nº 934/2020 - CRED - SEFAZ . . * * DO ACOMPANHAMENTO E FISCALIZAÇÃO DA EXECUÇÃO DO CONTRATO * * CLÁUSULA TERCEIRA . O Estado de Sergipe , por meio da Secretaria de Estado de Fazenda , deve : I – designar , nos termos do art . 67 da Lei federal nº 8.666 , de 1993 , servidor fazendário lotado na subunidade administrativa de arrecadação , para acompanhar e fiscalizar a execução do disposto neste Contrato ; II – analisar relatórios , instruir recursos administrativos e atestar a realização dos serviços efetivamente prestados ; III – fazer cumprir as vedações e os deveres previstos na legislação , no Edital e neste Contrato ; IV – decidir sobre os recursos administrativos impetrados pelo CONTRATADO ; e V – aplicar as sanções administrativas previstas no Edital e neste Contrato . * * DAS OBRIGAÇÕES DA CONTRATADA * * CLÁUSULA QUARTA . São obrigações da contratada : 4.1 Prestar serviço adequado , na forma prevista no Decreto Estadual Nº 40.690/2020 , no Edital de Credenciamento e neste Contrato ; -----',\n",
       "  'metadata': {'pagina': 'pag23 arq-credenciamento.pdf'}}]"
      ]
     },
     "execution_count": 17,
     "metadata": {},
     "output_type": "execute_result"
    }
   ],
   "source": [
    "\n",
    "for i in sections:\n",
    "  memory.save( i.page_content, i.metadata)\n",
    "\n",
    "\n",
    "q =  memory.search('Como fazer um requerimento', top_n=10)\n",
    "\n",
    "q\n",
    "  \n"
   ]
  },
  {
   "cell_type": "code",
   "execution_count": 18,
   "metadata": {},
   "outputs": [
    {
     "data": {
      "text/plain": [
       "'Como fazer um requerimento? use o texto seguinte como base:haja interesse da Administração e mantidas as condições e exigências previstas na legislação . 12.1 A inobservância à manutenção das condições e exigências dispostas na parte final do “ caput ” deste artigo caracteriza descumprimento de obrigação e deve ser condenada com a revogação do ato de credenciamento . 12.2 As prorrogações devem ser requeridas pela credenciada , ao menos , 90 ( noventa ) dias antes do término do prazo do credenciamento vigente . 12.3 No ato do requerimento de prorrogação a que se refere o § 2º deste artigo , a entidade interessada em manter o credenciamento deve verificar eventuais alterações ou datas de validade dos documentos anteriormente apresentados e instruir o requerimento com nova documentação para a habilitação , qualificação ou regularidade exigida por este Edital . # # # # # 13 . DISPOSIÇÕES FINAIS 13.1 A SEFAZ / SE pode estabelecer a forma e condições para a fiscalização e prestação de contas das atividades disciplinadas neste Edital . 13.2 Fica indicado o Banco do Estado de Sergipe – BANESE como agente recolhedor dos recursos oriundos das transações realizadas com base neste Edital . Isso não impede a indicação de outros bancos oficiais que possam , no futuro , tornarem - se agentes recolhedores dos DAE´s ; 13.3 A SEFAZ / SE disporá , em seu sítio na internet , a relação das entidades contratadas com objeto de operar com cartão de crédito para pagamento parcelado ou débito das dívidas dos usuários ; 13.4 A SEFAZ / SE não se responsabiliza por quaisquer danos e / ou prejuízos causados a terceiros em consequência dos serviços prestados pela CONTRATADA , devendo esta reparar quaisquer danos que , no exercício de sua atividade , venha causar a terceiros ou a SEFAZ / SE ; 13.5 A SEFAZ / SE e as entidades contratadas têm até 30 ( trinta ) dias contados da concretização do credenciamento para providenciar as alterações e integrações sistêmicas necessárias à implantação desta modalidade de pagamento . * * LISTA DE ANEXOS :* * ANEXO I – MODELO DE REQUERIMENTO PARA CREDENCIAMENTO ANEXO II – MINUTA DO CONTRATO ADMINISTRATIVO ANEXO III – MANUAL DE PAGAMENTO DE IMPOSTOS COM CARTÃO DE CRÉDITO * * Aracaju , 14 de dezembro de 2020 . * * * * Marco Antônio Queiroz * * * * Secretário de Estado da Fazenda de Sergipe * * ( assinado digitalmente ) -----4.12 Não pode participar do credenciamento : 4.12.1 pessoa física ; ou 4.12.2 pessoa jurídica : a ) com atividade econômica incompatível com o objeto de credenciamento deste Edital ; b ) reunida em consórcio ; c ) estrangeira que não tenha autorização legal para funcionamento no país ; d ) com falência , concordata ou recuperação judicial , ou extrajudicial , decretada judicialmente ; e ) em dissolução ou liquidação ; f ) impedida ou suspensa de participar de licitação e contratar com o Estado de Sergipe , ou suspensa ou que tenha sido declarada inidônea para licitar ou contratar com a Administração Pública , direta ou indireta , municipal , estadual ou federal ; ou g ) inscrita no Cadastro Nacional de Condenações Cíveis por Atos de Improbidade Administrativa , mantido pelo Conselho Nacional de Justiça . 4.13 A SEFAZ / SE , quando entender necessário , pode estabelecer outros requisitos para o credenciamento . 4.14 Todos os documentos emitidos em língua estrangeira devem ser entregues acompanhados de tradução em língua portuguesa , efetuada por tradutor comprovadamente habilitado , e estarem consularizados , notarizados e , quando aplicável , registrados no Cartório de Títulos e Documentos competente . 4.15 O credenciamento da Adquirente implica na aceitação plena e irrevogável das normas constantes do presente Regulamento . 4.16 Os requerimentos em desacordo com as regras previstas neste Edital devem ser indeferidos . 4.17 A SEFAZ / SE deve expedir certidão de credenciamento à entidade que atenda aos requisitos exigidos neste Edital , publicando extrato no DOE / SE que especifique , ao menos , o nome , CNPJ e objeto . # # # # # 5 . DO DESCREDENCIAMENTO 5.1 As entidades credenciadas , que posteriormente venham descumprir regras do credenciamento ou cometer infração contratual apenada com declaração de inidoneidade para licitar ou contratar com a Administração Pública , devem ter seu credenciamento cancelado . 5.2 As entidades podem ser descredenciadas pela SEFAZ / SE : 5.2.1 a pedido , mesmo que sem justificativa ; ou 5.2.2 de ofício , quando do descumprimento : a ) das exigências previstas para credenciamento , estabelecidas neste Regulamento ; ou b ) das vedações ou deveres previstos neste Regulamento , no Decreto Estadual Nº 40.690/2020 , em atos complementares editados pela SEFAZ / SE ou no contrato administrativo . 5.3 As despesas decorrentes do descredenciamento são de responsabilidade exclusiva da entidade . -----* * ANEXO I - REQUERIMENTO PARA CREDENCIAMENTO DE ENTIDADE * * * * PARA SOLUÇÃO DE PAGAMENTO DE DÉBITOS TRIBUTÁRIOS * * * * ESTADUAIS COM USO DE CARTÃO DE CRÉDITO JUNTO À SEFAZ / SE . * * * * Ao Secretário de Estado da SEFAZ / SE , * * * * Solicito concessão de credenciamento no pedido constante do presente * * * * requerimento e declaro , para todos os fins em admitido e sob as penas da lei , que * * * * cumprirei todas as normas emanadas pela SEFAZ / SE . * * * * INFORMAÇÕES DA ENTIDADE * * |RAZÃO SOCIAL|Col2|Col3|NOME DE FANTASIA|Col5|Col6| |---|---|---|---|---|---| |CNPJ:|INSCRIÇÃO ESTADUAL:|||INSCRIÇÃO MUNICIPAL:|| |ENDEREÇO:|||||| |COMPLEMENTO:|||||| |CIDADE / UF:||BAIRRO:|||CEP:| |FONE FIXO:||FONE CELULAR:|||| |E - MAIL:|||||| |REPRESENTANTE LEGAL:||CPF:|||| |DECLARAÇÃO DE AUTENTICIDADE O requerente , através de seu representante subescrevente , declara a autenticidade de todos os documentos e informações apresentados à SEFAZ / SE , sob as penas da Lei . Fica ciente , ainda , que a SEFAZ / SE poderá , a qualquer tempo , solicitar a apresentação das vias originais dos documentos protocolados virtualmente para análise.|||||| * * Aracaju / Se , de * * * * de * * * * _ Assinatura Digital do Responsável Legal da Entidade _ * * -----# # # # # Manual de Pagamento de Impostos com Cartão de Crédito INTRODUÇÃO Esse documento foi criado e desenvolvido pela Superintendência de Tecnologia da Secretaria de Estado da Fazenda de Sergipe . É vedada a sua reprodução parcial ou total , bem como sua distribuição a pessoas ou organizações estranhas às operações da SEFAZ sem a expressa autorização . A divulgação , reprodução ou permissão de consulta a terceiros estranhos à empresa , empregados não autorizados ou qualquer outro ato que leve a revelação do seu conteúdo sem a aprovação , implicará na responsabilidade de quem assim proceder , com os decorrentes ônus civis e penais . -----como pela análise da proposta de adesão , determinação do limite de crédito e relacionamento com seu portador sobre qualquer questão relativa à posse e ao uso do referido cartão ; 2.6 Instituição financeira : a pessoa jurídica de direito privado supervisionada pelo Banco Central do Brasil ( BACEN ) , que tem atividade econômica de banco múltiplo e comercial , com o fim de otimizar a alocação de capitais financeiros próprios e / ou de terceiros , obedecendo uma correlação de risco , custo e prazo , e que realiza , entre outros serviços , a emissão e administração de cartões com função de crédito , débito e / ou pré - pago , de rede própria ou de terceiros ; empréstimo e financiamento a interessados , disponibilizando dinheiro para pagamento de obrigações , dentre as quais às de natureza tributária ; recebimento de pagamento de obrigações para com terceiros e liquidação de guias ou documentos próprios , segundo regras do Sistema de Pagamentos Brasileiro ( SPB ) e / ou de outros órgãos competentes ; 2.7 Instituição ou entidade não financeira : a pessoa jurídica de direito privado que desempenha atividade econômica de caráter não financeiro , que pode emitir e administrar cartão de crédito próprio e que representa portadores de cartões perante instituições financeiras , para contratação e obtenção de financiamento , cobrando - lhes encargos decorrentes dos serviços prestados ; 2.8 Adquirente : a pessoa jurídica de direito privado , sujeita ao processo de autorização e supervisão do BACEN , que liquida transações financeiras realizadas com uso do cartão de crédito , procedendo , previamente ao processamento da liquidação , à comunicação entre a bandeira e a emissora do cartão , com o objetivo de obter aprovação do pagamento do negócio efetuado pelo portador , após comprovação da suficiência de limite ; que fornece as maquininhas de cartão de crédito e que , posteriormente à aprovação da transação , recebe o dinheiro da instituição bancária correlata e repassa , no prazo preestabelecido , o valor descrito no DAE à conta bancária devida ; 2.9 Subadquirente , a pessoa jurídica de direito privado não sujeita ao processo de autorização e supervisão do BACEN , que , segundo a Circular BACEN nº 3.682 , de 4 de novembro de 2013 , com redação da Circular BACEN nº 3.886 , de 26 de março de 2018 , deve ser habilitada por adquirente para realizar transações financeiras com cartões de crédito em nome de terceiros , permitindo - lhe capturar e processar pagamentos por meio eletrônico , mediante a intermediação entre o adquirente , bandeiras e bancos emissores , e fazer a transmissão de dados da transação efetuada ; que não participa do processo de liquidação das transações de pagamento como credor perante o emissor e que deve oferecer garantia dos serviços antifraude , conciliação financeira , entre outros ; 2.10 Gateway : a plataforma diretamente interligada com a adquirente que é responsável pelo fornecimento da interface e pela solução# # # # # 4 . DAS CONDIÇÕES E DOCUMENTAÇÃO PARA CREDENCIAMENTO 4.1 O credenciamento tem natureza jurídica precária e não implica compromisso , obrigação financeira ou transferência de recursos entre as partes , bem como não gera direito , de uma para outra , à indenização , contraprestação pecuniária , ressarcimento ou reembolso . 4.2 As entidades interessadas no credenciamento deverão possuir autorização do Banco Central do Brasil para constituição e funcionamento , nos termos da Legislação aplicável , ou possuir habilitação , por instituição credenciadora supervisionada pelo Banco Central do Brasil , para processar pagamentos , inclusive parcelados , mediante uso de cartões crédito normalmente aceitos no mercado , sem restrição de bandeiras . 4.3 Poderão credenciar - se as entidades do ramo pertinente ao objeto e que atenderem a todas as exigências constantes deste Regulamento e seus anexos . 4.4 O requerimento , com pedido de credenciamento , deve : 4.4.1 ser dirigido ao Secretário de Estado da Fazenda e protocolado eletronicamente , nos termos do item 7 deste edital ; 4.4.2 conter a razão social da requerente , o número do Cadastro Nacional de Pessoa Jurídica ( CNPJ ) , o objeto e a(s ) assinatura(s ) do(s ) representante(s ) legal(is ) ; e 4.4.3 comprovar : a ) habilitação jurídica ; b ) regularidade fiscal e trabalhista ; c ) qualificação econômico - financeira ; e d ) qualificação técnica . 4.5 A habilitação jurídica deve ser comprovada , ao menos , por : 4.5.1 cópia do ato constitutivo , estatuto ou contrato social vigente , inclusive com as alterações posteriores , devidamente registrado no órgão competente ; 4.5.2 cópia autenticada do documento de nomeação do dirigente , em se tratando de sociedade empresária , ou da ata da assembleia da última eleição da diretoria , em se tratando de sociedade por ações , conforme o caso ; 4.5.3 cópia autenticada da cédula de identidade , expedida pelo órgão competente , e do cadastro de pessoa física ( CPF ) , expedido pelo Ministério da Fazenda , do dirigente e sócios , quando se tratar de sociedade empresária , ou do representante legal , diretor ou presidente , quando se tratar de sociedade por ações ; 4.5.4 ato de outorga de poderes ao representante legal para praticar todos os atos necessários , em nome da requerente , no processo de credenciamento e no processo de contratação administrativa , bem como para o exercício de direitos e assunção de obrigações decorrentes do referido contrato ; e 4.5.5 decreto de autorização do órgão competente , quando se tratar de sociedade estrangeira para funcionamento no país . 4.6 A requerente também deve apresentar documento que constitua e habilite matriz ou filial para proceder ao credenciamento , contratação e gerenciamento da execução contratual , indicando o número de inscrição no CNPJ / MF ; o endereço completo , logradouro , complemento , bairro , cidade , unidade da federação e CEP ; o número de telefone eresponsável pelo fornecimento da interface e pela solução de processamento do pagamento “ online ” , controlando toda operação com cartões de crédito e protegendo as informações do cartão e outros dados por meio de criptografia ; 2.11 Bandeira : a detentora do direito de propriedade e franqueadora da marca ou logomarca , que oferece a organização e estrutura e estabelece regras de filiação de estabelecimentos , de padrão operacional para uso e de segurança necessária ao funcionamento do sistema de cartão de crédito ; que define , em conjunto com as instituições financeiras , o limite de crédito do portador , a quantidade de parcelas que pode ser concedida para pagamento , o número de estabelecimentos que aceitam determinado cartão , no âmbito nacional ou internacional , e que autoriza a realização da transação solicitada pelo portador ; -----V ) Declaração de inidoneidade para licitar ou contratar com a Administração Pública enquanto perdurarem os motivos determinantes da punição ou até que seja promovida a reabilitação perante a própria autoridade que aplicou a penalidade , que será concedida sempre que a CONTRATADA ressarcir a SEFAZ / SE pelos prejuízos resultantes e depois de decorrido o prazo da penalidade de suspensão do subitem anterior ; VI ) Cancelamento do credenciamento , quando ocorrer : a ) Quarta ocorrência da irregularidade punida com aplicação de sanção administrativa de suspensão ; b ) Fraudar o sistema de pagamento e o sistema financeiro ; c ) Deixar de manter sigilo das informações , fornecendo a terceiros dados dos usuários , que são exclusivos da SEFAZ . 8.1 As multas estabelecidas serão entendidas como independentes , podendo ser cumulativas . 8.2 As multas e outras penalidades somente poderão deixar de ser aplicadas , em decisão motivada , nos casos fortuitos ou de força maior , devidamente comprovados por escrito e para os quais a Contratada não tenha concorrido ; 8.3 A Contratada deverá comunicar os fatos de força maior e caso fortuito , imediatamente após a sua verificação , apresentando os respectivos documentos comprobatórios em até 5 ( cinco ) dias úteis a partir da data de sua ocorrência , sob pena de não serem considerados . 8.4 O processo de aplicação da sanção será de competência da unidade administrativa gerenciadora dos pagamentos de tributos via cartão de crédito e o recurso , cujo prazo para interposição é de 10 ( dez ) dias úteis , será apreciado pelo SECRETÁRIO DE ESTADO DA FAZENDA . * * DA RESCISÃO DO CONTRATO * * CLÁUSULA NONA . O presente Termo de Contrato poderá ser rescindido nas hipóteses previstas no art . 78 da Lei nº 8.666 , de 1993 , com as consequências indicadas no art . 80 da mesma Lei , sem prejuízo da aplicação das sanções previstas neste instrumento . -----da operação de pagamento de créditos tributários com o uso do cartão de crédito junto a SEFAZ / SE , sob sua responsabilidade e às suas expensas , como forma de demonstrar o perfeito funcionamento do sistema de pagamento , devendo realizar os ajustes requisitados , sob pena de indeferimento do credenciamento . 4.10 Além das exigências dispostas nesta Seção , a requerente também deve apresentar termo de responsabilidade , assinado pelo dirigente ou representante legal , declarando que : -----CLÁUSULA SEGUNDA . É inexigível a licitação para prestação dos serviços objeto deste Contrato , com base no \" caput \" do art . 25 da Lei federal nº 8.666 , de 21 de junho de 1993 , em razão de a referida prestação estar aberta à participação de todas as instituições operadoras de cartão de crédito , que queiram prestar os serviços contratados e atendam as condições técnicas e das exigências para tal fim , caracterizando - se , deste modo , a inviabilidade de competição reconhecida pelo(a ) Secretário(a ) de Estado da Fazenda , nos termos do art . 26 da Lei federal nº 8.666 , de 1993 , conforme despacho exarado nos autos do Processo Administrativo nº 934/2020 - CRED - SEFAZ . . * * DO ACOMPANHAMENTO E FISCALIZAÇÃO DA EXECUÇÃO DO CONTRATO * * CLÁUSULA TERCEIRA . O Estado de Sergipe , por meio da Secretaria de Estado de Fazenda , deve : I – designar , nos termos do art . 67 da Lei federal nº 8.666 , de 1993 , servidor fazendário lotado na subunidade administrativa de arrecadação , para acompanhar e fiscalizar a execução do disposto neste Contrato ; II – analisar relatórios , instruir recursos administrativos e atestar a realização dos serviços efetivamente prestados ; III – fazer cumprir as vedações e os deveres previstos na legislação , no Edital e neste Contrato ; IV – decidir sobre os recursos administrativos impetrados pelo CONTRATADO ; e V – aplicar as sanções administrativas previstas no Edital e neste Contrato . * * DAS OBRIGAÇÕES DA CONTRATADA * * CLÁUSULA QUARTA . São obrigações da contratada : 4.1 Prestar serviço adequado , na forma prevista no Decreto Estadual Nº 40.690/2020 , no Edital de Credenciamento e neste Contrato ; -----'"
      ]
     },
     "execution_count": 18,
     "metadata": {},
     "output_type": "execute_result"
    }
   ],
   "source": [
    "vector = [i['chunk'] for i in memory.search('Como fazer um requerimento', top_n=10)]\n",
    "\n",
    "t = 'Como fazer um requerimento? use o texto seguinte como base:'\n",
    "for i in vector:\n",
    "  t += i\n",
    "\n",
    "t\n"
   ]
  },
  {
   "cell_type": "code",
   "execution_count": 24,
   "metadata": {},
   "outputs": [],
   "source": [
    "def searchQuery(question):\n",
    "  vector = [i['chunk'] for i in memory.search(question, top_n=10)]\n",
    "\n",
    "  t = f'A pergunta é esta: {question} - a resposta deve ser feita em portugues do brasil e use o texto seguinte como base: '\n",
    "  for i in vector:\n",
    "    t += i\n",
    "  return t\n"
   ]
  },
  {
   "cell_type": "code",
   "execution_count": 20,
   "metadata": {},
   "outputs": [],
   "source": [
    "# from openai import OpenAI\n",
    "# from dotenv import load_dotenv\n",
    "# from IPython.display import display_markdown\n",
    "\n",
    "\n",
    "# import os\n",
    "\n",
    "# load_dotenv()\n",
    "\n",
    "# ask = \"Como fazer um requerimento\"\n",
    "\n",
    "# messages = [{\"role\": \"system\", \"content\": chunk} for chunk in vector]\n",
    "\n",
    "\n",
    "# client = OpenAI(api_key='ollama', base_url='http://localhost:11435/v1/')\n",
    "\n",
    "# response = client.chat.completions.create(\n",
    "#   model='llama3',\n",
    "#   messages = [\n",
    "  \n",
    "#     {\"role\": \"user\", \"content\": t},\n",
    "#   ]\n",
    "# )\n",
    "\n",
    "# print(response.choices[0].message.content)\n"
   ]
  },
  {
   "cell_type": "code",
   "execution_count": 27,
   "metadata": {},
   "outputs": [
    {
     "ename": "KeyboardInterrupt",
     "evalue": "",
     "output_type": "error",
     "traceback": [
      "\u001b[0;31m---------------------------------------------------------------------------\u001b[0m",
      "\u001b[0;31mKeyboardInterrupt\u001b[0m                         Traceback (most recent call last)",
      "Cell \u001b[0;32mIn[27], line 57\u001b[0m\n\u001b[1;32m     54\u001b[0m response_times \u001b[38;5;241m=\u001b[39m []\n\u001b[1;32m     56\u001b[0m \u001b[38;5;28;01mfor\u001b[39;00m i \u001b[38;5;129;01min\u001b[39;00m \u001b[38;5;28mrange\u001b[39m(\u001b[38;5;241m5\u001b[39m):\n\u001b[0;32m---> 57\u001b[0m     elapsed_time, response \u001b[38;5;241m=\u001b[39m \u001b[43mget_response_time\u001b[49m\u001b[43m(\u001b[49m\u001b[43msearchQuery\u001b[49m\u001b[43m(\u001b[49m\u001b[43mquestion\u001b[49m\u001b[43m)\u001b[49m\u001b[43m,\u001b[49m\u001b[43m \u001b[49m\u001b[43mclient\u001b[49m\u001b[43m)\u001b[49m\n\u001b[1;32m     58\u001b[0m     response_times\u001b[38;5;241m.\u001b[39mappend(elapsed_time)\n\u001b[1;32m     59\u001b[0m     total_time \u001b[38;5;241m+\u001b[39m\u001b[38;5;241m=\u001b[39m elapsed_time\n",
      "Cell \u001b[0;32mIn[27], line 35\u001b[0m, in \u001b[0;36mget_response_time\u001b[0;34m(question, client)\u001b[0m\n\u001b[1;32m     33\u001b[0m \u001b[38;5;28;01mdef\u001b[39;00m \u001b[38;5;21mget_response_time\u001b[39m(question, client):\n\u001b[1;32m     34\u001b[0m     start_time \u001b[38;5;241m=\u001b[39m time\u001b[38;5;241m.\u001b[39mtime()\n\u001b[0;32m---> 35\u001b[0m     response \u001b[38;5;241m=\u001b[39m \u001b[43mclient\u001b[49m\u001b[38;5;241;43m.\u001b[39;49m\u001b[43mchat\u001b[49m\u001b[43m(\u001b[49m\u001b[43mmodel\u001b[49m\u001b[38;5;241;43m=\u001b[39;49m\u001b[38;5;124;43m'\u001b[39;49m\u001b[38;5;124;43mllama3\u001b[39;49m\u001b[38;5;124;43m'\u001b[39;49m\u001b[43m,\u001b[49m\u001b[43m \u001b[49m\u001b[43mmessages\u001b[49m\u001b[38;5;241;43m=\u001b[39;49m\u001b[43m[\u001b[49m\n\u001b[1;32m     36\u001b[0m \u001b[43m        \u001b[49m\u001b[43m{\u001b[49m\n\u001b[1;32m     37\u001b[0m \u001b[43m            \u001b[49m\u001b[38;5;124;43m'\u001b[39;49m\u001b[38;5;124;43mrole\u001b[39;49m\u001b[38;5;124;43m'\u001b[39;49m\u001b[43m:\u001b[49m\u001b[43m \u001b[49m\u001b[38;5;124;43m'\u001b[39;49m\u001b[38;5;124;43muser\u001b[39;49m\u001b[38;5;124;43m'\u001b[39;49m\u001b[43m,\u001b[49m\n\u001b[1;32m     38\u001b[0m \u001b[43m            \u001b[49m\u001b[38;5;124;43m'\u001b[39;49m\u001b[38;5;124;43mcontent\u001b[39;49m\u001b[38;5;124;43m'\u001b[39;49m\u001b[43m:\u001b[49m\u001b[43m \u001b[49m\u001b[43mquestion\u001b[49m\u001b[43m,\u001b[49m\n\u001b[1;32m     39\u001b[0m \u001b[43m        \u001b[49m\u001b[43m}\u001b[49m\u001b[43m,\u001b[49m\n\u001b[1;32m     40\u001b[0m \u001b[43m    \u001b[49m\u001b[43m]\u001b[49m\u001b[43m)\u001b[49m\n\u001b[1;32m     41\u001b[0m     end_time \u001b[38;5;241m=\u001b[39m time\u001b[38;5;241m.\u001b[39mtime()\n\u001b[1;32m     42\u001b[0m     elapsed_time \u001b[38;5;241m=\u001b[39m end_time \u001b[38;5;241m-\u001b[39m start_time\n",
      "File \u001b[0;32m~/Documentos/estudostccc/env/lib/python3.12/site-packages/ollama/_client.py:180\u001b[0m, in \u001b[0;36mClient.chat\u001b[0;34m(self, model, messages, stream, format, options, keep_alive)\u001b[0m\n\u001b[1;32m    177\u001b[0m   \u001b[38;5;28;01mif\u001b[39;00m images \u001b[38;5;241m:=\u001b[39m message\u001b[38;5;241m.\u001b[39mget(\u001b[38;5;124m'\u001b[39m\u001b[38;5;124mimages\u001b[39m\u001b[38;5;124m'\u001b[39m):\n\u001b[1;32m    178\u001b[0m     message[\u001b[38;5;124m'\u001b[39m\u001b[38;5;124mimages\u001b[39m\u001b[38;5;124m'\u001b[39m] \u001b[38;5;241m=\u001b[39m [_encode_image(image) \u001b[38;5;28;01mfor\u001b[39;00m image \u001b[38;5;129;01min\u001b[39;00m images]\n\u001b[0;32m--> 180\u001b[0m \u001b[38;5;28;01mreturn\u001b[39;00m \u001b[38;5;28;43mself\u001b[39;49m\u001b[38;5;241;43m.\u001b[39;49m\u001b[43m_request_stream\u001b[49m\u001b[43m(\u001b[49m\n\u001b[1;32m    181\u001b[0m \u001b[43m  \u001b[49m\u001b[38;5;124;43m'\u001b[39;49m\u001b[38;5;124;43mPOST\u001b[39;49m\u001b[38;5;124;43m'\u001b[39;49m\u001b[43m,\u001b[49m\n\u001b[1;32m    182\u001b[0m \u001b[43m  \u001b[49m\u001b[38;5;124;43m'\u001b[39;49m\u001b[38;5;124;43m/api/chat\u001b[39;49m\u001b[38;5;124;43m'\u001b[39;49m\u001b[43m,\u001b[49m\n\u001b[1;32m    183\u001b[0m \u001b[43m  \u001b[49m\u001b[43mjson\u001b[49m\u001b[38;5;241;43m=\u001b[39;49m\u001b[43m{\u001b[49m\n\u001b[1;32m    184\u001b[0m \u001b[43m    \u001b[49m\u001b[38;5;124;43m'\u001b[39;49m\u001b[38;5;124;43mmodel\u001b[39;49m\u001b[38;5;124;43m'\u001b[39;49m\u001b[43m:\u001b[49m\u001b[43m \u001b[49m\u001b[43mmodel\u001b[49m\u001b[43m,\u001b[49m\n\u001b[1;32m    185\u001b[0m \u001b[43m    \u001b[49m\u001b[38;5;124;43m'\u001b[39;49m\u001b[38;5;124;43mmessages\u001b[39;49m\u001b[38;5;124;43m'\u001b[39;49m\u001b[43m:\u001b[49m\u001b[43m \u001b[49m\u001b[43mmessages\u001b[49m\u001b[43m,\u001b[49m\n\u001b[1;32m    186\u001b[0m \u001b[43m    \u001b[49m\u001b[38;5;124;43m'\u001b[39;49m\u001b[38;5;124;43mstream\u001b[39;49m\u001b[38;5;124;43m'\u001b[39;49m\u001b[43m:\u001b[49m\u001b[43m \u001b[49m\u001b[43mstream\u001b[49m\u001b[43m,\u001b[49m\n\u001b[1;32m    187\u001b[0m \u001b[43m    \u001b[49m\u001b[38;5;124;43m'\u001b[39;49m\u001b[38;5;124;43mformat\u001b[39;49m\u001b[38;5;124;43m'\u001b[39;49m\u001b[43m:\u001b[49m\u001b[43m \u001b[49m\u001b[38;5;28;43mformat\u001b[39;49m\u001b[43m,\u001b[49m\n\u001b[1;32m    188\u001b[0m \u001b[43m    \u001b[49m\u001b[38;5;124;43m'\u001b[39;49m\u001b[38;5;124;43moptions\u001b[39;49m\u001b[38;5;124;43m'\u001b[39;49m\u001b[43m:\u001b[49m\u001b[43m \u001b[49m\u001b[43moptions\u001b[49m\u001b[43m \u001b[49m\u001b[38;5;129;43;01mor\u001b[39;49;00m\u001b[43m \u001b[49m\u001b[43m{\u001b[49m\u001b[43m}\u001b[49m\u001b[43m,\u001b[49m\n\u001b[1;32m    189\u001b[0m \u001b[43m    \u001b[49m\u001b[38;5;124;43m'\u001b[39;49m\u001b[38;5;124;43mkeep_alive\u001b[39;49m\u001b[38;5;124;43m'\u001b[39;49m\u001b[43m:\u001b[49m\u001b[43m \u001b[49m\u001b[43mkeep_alive\u001b[49m\u001b[43m,\u001b[49m\n\u001b[1;32m    190\u001b[0m \u001b[43m  \u001b[49m\u001b[43m}\u001b[49m\u001b[43m,\u001b[49m\n\u001b[1;32m    191\u001b[0m \u001b[43m  \u001b[49m\u001b[43mstream\u001b[49m\u001b[38;5;241;43m=\u001b[39;49m\u001b[43mstream\u001b[49m\u001b[43m,\u001b[49m\n\u001b[1;32m    192\u001b[0m \u001b[43m\u001b[49m\u001b[43m)\u001b[49m\n",
      "File \u001b[0;32m~/Documentos/estudostccc/env/lib/python3.12/site-packages/ollama/_client.py:98\u001b[0m, in \u001b[0;36mClient._request_stream\u001b[0;34m(self, stream, *args, **kwargs)\u001b[0m\n\u001b[1;32m     92\u001b[0m \u001b[38;5;28;01mdef\u001b[39;00m \u001b[38;5;21m_request_stream\u001b[39m(\n\u001b[1;32m     93\u001b[0m   \u001b[38;5;28mself\u001b[39m,\n\u001b[1;32m     94\u001b[0m   \u001b[38;5;241m*\u001b[39margs,\n\u001b[1;32m     95\u001b[0m   stream: \u001b[38;5;28mbool\u001b[39m \u001b[38;5;241m=\u001b[39m \u001b[38;5;28;01mFalse\u001b[39;00m,\n\u001b[1;32m     96\u001b[0m   \u001b[38;5;241m*\u001b[39m\u001b[38;5;241m*\u001b[39mkwargs,\n\u001b[1;32m     97\u001b[0m ) \u001b[38;5;241m-\u001b[39m\u001b[38;5;241m>\u001b[39m Union[Mapping[\u001b[38;5;28mstr\u001b[39m, Any], Iterator[Mapping[\u001b[38;5;28mstr\u001b[39m, Any]]]:\n\u001b[0;32m---> 98\u001b[0m   \u001b[38;5;28;01mreturn\u001b[39;00m \u001b[38;5;28mself\u001b[39m\u001b[38;5;241m.\u001b[39m_stream(\u001b[38;5;241m*\u001b[39margs, \u001b[38;5;241m*\u001b[39m\u001b[38;5;241m*\u001b[39mkwargs) \u001b[38;5;28;01mif\u001b[39;00m stream \u001b[38;5;28;01melse\u001b[39;00m \u001b[38;5;28;43mself\u001b[39;49m\u001b[38;5;241;43m.\u001b[39;49m\u001b[43m_request\u001b[49m\u001b[43m(\u001b[49m\u001b[38;5;241;43m*\u001b[39;49m\u001b[43margs\u001b[49m\u001b[43m,\u001b[49m\u001b[43m \u001b[49m\u001b[38;5;241;43m*\u001b[39;49m\u001b[38;5;241;43m*\u001b[39;49m\u001b[43mkwargs\u001b[49m\u001b[43m)\u001b[49m\u001b[38;5;241m.\u001b[39mjson()\n",
      "File \u001b[0;32m~/Documentos/estudostccc/env/lib/python3.12/site-packages/ollama/_client.py:69\u001b[0m, in \u001b[0;36mClient._request\u001b[0;34m(self, method, url, **kwargs)\u001b[0m\n\u001b[1;32m     68\u001b[0m \u001b[38;5;28;01mdef\u001b[39;00m \u001b[38;5;21m_request\u001b[39m(\u001b[38;5;28mself\u001b[39m, method: \u001b[38;5;28mstr\u001b[39m, url: \u001b[38;5;28mstr\u001b[39m, \u001b[38;5;241m*\u001b[39m\u001b[38;5;241m*\u001b[39mkwargs) \u001b[38;5;241m-\u001b[39m\u001b[38;5;241m>\u001b[39m httpx\u001b[38;5;241m.\u001b[39mResponse:\n\u001b[0;32m---> 69\u001b[0m   response \u001b[38;5;241m=\u001b[39m \u001b[38;5;28;43mself\u001b[39;49m\u001b[38;5;241;43m.\u001b[39;49m\u001b[43m_client\u001b[49m\u001b[38;5;241;43m.\u001b[39;49m\u001b[43mrequest\u001b[49m\u001b[43m(\u001b[49m\u001b[43mmethod\u001b[49m\u001b[43m,\u001b[49m\u001b[43m \u001b[49m\u001b[43murl\u001b[49m\u001b[43m,\u001b[49m\u001b[43m \u001b[49m\u001b[38;5;241;43m*\u001b[39;49m\u001b[38;5;241;43m*\u001b[39;49m\u001b[43mkwargs\u001b[49m\u001b[43m)\u001b[49m\n\u001b[1;32m     71\u001b[0m   \u001b[38;5;28;01mtry\u001b[39;00m:\n\u001b[1;32m     72\u001b[0m     response\u001b[38;5;241m.\u001b[39mraise_for_status()\n",
      "File \u001b[0;32m~/Documentos/estudostccc/env/lib/python3.12/site-packages/httpx/_client.py:827\u001b[0m, in \u001b[0;36mClient.request\u001b[0;34m(self, method, url, content, data, files, json, params, headers, cookies, auth, follow_redirects, timeout, extensions)\u001b[0m\n\u001b[1;32m    812\u001b[0m     warnings\u001b[38;5;241m.\u001b[39mwarn(message, \u001b[38;5;167;01mDeprecationWarning\u001b[39;00m)\n\u001b[1;32m    814\u001b[0m request \u001b[38;5;241m=\u001b[39m \u001b[38;5;28mself\u001b[39m\u001b[38;5;241m.\u001b[39mbuild_request(\n\u001b[1;32m    815\u001b[0m     method\u001b[38;5;241m=\u001b[39mmethod,\n\u001b[1;32m    816\u001b[0m     url\u001b[38;5;241m=\u001b[39murl,\n\u001b[0;32m   (...)\u001b[0m\n\u001b[1;32m    825\u001b[0m     extensions\u001b[38;5;241m=\u001b[39mextensions,\n\u001b[1;32m    826\u001b[0m )\n\u001b[0;32m--> 827\u001b[0m \u001b[38;5;28;01mreturn\u001b[39;00m \u001b[38;5;28;43mself\u001b[39;49m\u001b[38;5;241;43m.\u001b[39;49m\u001b[43msend\u001b[49m\u001b[43m(\u001b[49m\u001b[43mrequest\u001b[49m\u001b[43m,\u001b[49m\u001b[43m \u001b[49m\u001b[43mauth\u001b[49m\u001b[38;5;241;43m=\u001b[39;49m\u001b[43mauth\u001b[49m\u001b[43m,\u001b[49m\u001b[43m \u001b[49m\u001b[43mfollow_redirects\u001b[49m\u001b[38;5;241;43m=\u001b[39;49m\u001b[43mfollow_redirects\u001b[49m\u001b[43m)\u001b[49m\n",
      "File \u001b[0;32m~/Documentos/estudostccc/env/lib/python3.12/site-packages/httpx/_client.py:914\u001b[0m, in \u001b[0;36mClient.send\u001b[0;34m(self, request, stream, auth, follow_redirects)\u001b[0m\n\u001b[1;32m    906\u001b[0m follow_redirects \u001b[38;5;241m=\u001b[39m (\n\u001b[1;32m    907\u001b[0m     \u001b[38;5;28mself\u001b[39m\u001b[38;5;241m.\u001b[39mfollow_redirects\n\u001b[1;32m    908\u001b[0m     \u001b[38;5;28;01mif\u001b[39;00m \u001b[38;5;28misinstance\u001b[39m(follow_redirects, UseClientDefault)\n\u001b[1;32m    909\u001b[0m     \u001b[38;5;28;01melse\u001b[39;00m follow_redirects\n\u001b[1;32m    910\u001b[0m )\n\u001b[1;32m    912\u001b[0m auth \u001b[38;5;241m=\u001b[39m \u001b[38;5;28mself\u001b[39m\u001b[38;5;241m.\u001b[39m_build_request_auth(request, auth)\n\u001b[0;32m--> 914\u001b[0m response \u001b[38;5;241m=\u001b[39m \u001b[38;5;28;43mself\u001b[39;49m\u001b[38;5;241;43m.\u001b[39;49m\u001b[43m_send_handling_auth\u001b[49m\u001b[43m(\u001b[49m\n\u001b[1;32m    915\u001b[0m \u001b[43m    \u001b[49m\u001b[43mrequest\u001b[49m\u001b[43m,\u001b[49m\n\u001b[1;32m    916\u001b[0m \u001b[43m    \u001b[49m\u001b[43mauth\u001b[49m\u001b[38;5;241;43m=\u001b[39;49m\u001b[43mauth\u001b[49m\u001b[43m,\u001b[49m\n\u001b[1;32m    917\u001b[0m \u001b[43m    \u001b[49m\u001b[43mfollow_redirects\u001b[49m\u001b[38;5;241;43m=\u001b[39;49m\u001b[43mfollow_redirects\u001b[49m\u001b[43m,\u001b[49m\n\u001b[1;32m    918\u001b[0m \u001b[43m    \u001b[49m\u001b[43mhistory\u001b[49m\u001b[38;5;241;43m=\u001b[39;49m\u001b[43m[\u001b[49m\u001b[43m]\u001b[49m\u001b[43m,\u001b[49m\n\u001b[1;32m    919\u001b[0m \u001b[43m\u001b[49m\u001b[43m)\u001b[49m\n\u001b[1;32m    920\u001b[0m \u001b[38;5;28;01mtry\u001b[39;00m:\n\u001b[1;32m    921\u001b[0m     \u001b[38;5;28;01mif\u001b[39;00m \u001b[38;5;129;01mnot\u001b[39;00m stream:\n",
      "File \u001b[0;32m~/Documentos/estudostccc/env/lib/python3.12/site-packages/httpx/_client.py:942\u001b[0m, in \u001b[0;36mClient._send_handling_auth\u001b[0;34m(self, request, auth, follow_redirects, history)\u001b[0m\n\u001b[1;32m    939\u001b[0m request \u001b[38;5;241m=\u001b[39m \u001b[38;5;28mnext\u001b[39m(auth_flow)\n\u001b[1;32m    941\u001b[0m \u001b[38;5;28;01mwhile\u001b[39;00m \u001b[38;5;28;01mTrue\u001b[39;00m:\n\u001b[0;32m--> 942\u001b[0m     response \u001b[38;5;241m=\u001b[39m \u001b[38;5;28;43mself\u001b[39;49m\u001b[38;5;241;43m.\u001b[39;49m\u001b[43m_send_handling_redirects\u001b[49m\u001b[43m(\u001b[49m\n\u001b[1;32m    943\u001b[0m \u001b[43m        \u001b[49m\u001b[43mrequest\u001b[49m\u001b[43m,\u001b[49m\n\u001b[1;32m    944\u001b[0m \u001b[43m        \u001b[49m\u001b[43mfollow_redirects\u001b[49m\u001b[38;5;241;43m=\u001b[39;49m\u001b[43mfollow_redirects\u001b[49m\u001b[43m,\u001b[49m\n\u001b[1;32m    945\u001b[0m \u001b[43m        \u001b[49m\u001b[43mhistory\u001b[49m\u001b[38;5;241;43m=\u001b[39;49m\u001b[43mhistory\u001b[49m\u001b[43m,\u001b[49m\n\u001b[1;32m    946\u001b[0m \u001b[43m    \u001b[49m\u001b[43m)\u001b[49m\n\u001b[1;32m    947\u001b[0m     \u001b[38;5;28;01mtry\u001b[39;00m:\n\u001b[1;32m    948\u001b[0m         \u001b[38;5;28;01mtry\u001b[39;00m:\n",
      "File \u001b[0;32m~/Documentos/estudostccc/env/lib/python3.12/site-packages/httpx/_client.py:979\u001b[0m, in \u001b[0;36mClient._send_handling_redirects\u001b[0;34m(self, request, follow_redirects, history)\u001b[0m\n\u001b[1;32m    976\u001b[0m \u001b[38;5;28;01mfor\u001b[39;00m hook \u001b[38;5;129;01min\u001b[39;00m \u001b[38;5;28mself\u001b[39m\u001b[38;5;241m.\u001b[39m_event_hooks[\u001b[38;5;124m\"\u001b[39m\u001b[38;5;124mrequest\u001b[39m\u001b[38;5;124m\"\u001b[39m]:\n\u001b[1;32m    977\u001b[0m     hook(request)\n\u001b[0;32m--> 979\u001b[0m response \u001b[38;5;241m=\u001b[39m \u001b[38;5;28;43mself\u001b[39;49m\u001b[38;5;241;43m.\u001b[39;49m\u001b[43m_send_single_request\u001b[49m\u001b[43m(\u001b[49m\u001b[43mrequest\u001b[49m\u001b[43m)\u001b[49m\n\u001b[1;32m    980\u001b[0m \u001b[38;5;28;01mtry\u001b[39;00m:\n\u001b[1;32m    981\u001b[0m     \u001b[38;5;28;01mfor\u001b[39;00m hook \u001b[38;5;129;01min\u001b[39;00m \u001b[38;5;28mself\u001b[39m\u001b[38;5;241m.\u001b[39m_event_hooks[\u001b[38;5;124m\"\u001b[39m\u001b[38;5;124mresponse\u001b[39m\u001b[38;5;124m\"\u001b[39m]:\n",
      "File \u001b[0;32m~/Documentos/estudostccc/env/lib/python3.12/site-packages/httpx/_client.py:1015\u001b[0m, in \u001b[0;36mClient._send_single_request\u001b[0;34m(self, request)\u001b[0m\n\u001b[1;32m   1010\u001b[0m     \u001b[38;5;28;01mraise\u001b[39;00m \u001b[38;5;167;01mRuntimeError\u001b[39;00m(\n\u001b[1;32m   1011\u001b[0m         \u001b[38;5;124m\"\u001b[39m\u001b[38;5;124mAttempted to send an async request with a sync Client instance.\u001b[39m\u001b[38;5;124m\"\u001b[39m\n\u001b[1;32m   1012\u001b[0m     )\n\u001b[1;32m   1014\u001b[0m \u001b[38;5;28;01mwith\u001b[39;00m request_context(request\u001b[38;5;241m=\u001b[39mrequest):\n\u001b[0;32m-> 1015\u001b[0m     response \u001b[38;5;241m=\u001b[39m \u001b[43mtransport\u001b[49m\u001b[38;5;241;43m.\u001b[39;49m\u001b[43mhandle_request\u001b[49m\u001b[43m(\u001b[49m\u001b[43mrequest\u001b[49m\u001b[43m)\u001b[49m\n\u001b[1;32m   1017\u001b[0m \u001b[38;5;28;01massert\u001b[39;00m \u001b[38;5;28misinstance\u001b[39m(response\u001b[38;5;241m.\u001b[39mstream, SyncByteStream)\n\u001b[1;32m   1019\u001b[0m response\u001b[38;5;241m.\u001b[39mrequest \u001b[38;5;241m=\u001b[39m request\n",
      "File \u001b[0;32m~/Documentos/estudostccc/env/lib/python3.12/site-packages/httpx/_transports/default.py:233\u001b[0m, in \u001b[0;36mHTTPTransport.handle_request\u001b[0;34m(self, request)\u001b[0m\n\u001b[1;32m    220\u001b[0m req \u001b[38;5;241m=\u001b[39m httpcore\u001b[38;5;241m.\u001b[39mRequest(\n\u001b[1;32m    221\u001b[0m     method\u001b[38;5;241m=\u001b[39mrequest\u001b[38;5;241m.\u001b[39mmethod,\n\u001b[1;32m    222\u001b[0m     url\u001b[38;5;241m=\u001b[39mhttpcore\u001b[38;5;241m.\u001b[39mURL(\n\u001b[0;32m   (...)\u001b[0m\n\u001b[1;32m    230\u001b[0m     extensions\u001b[38;5;241m=\u001b[39mrequest\u001b[38;5;241m.\u001b[39mextensions,\n\u001b[1;32m    231\u001b[0m )\n\u001b[1;32m    232\u001b[0m \u001b[38;5;28;01mwith\u001b[39;00m map_httpcore_exceptions():\n\u001b[0;32m--> 233\u001b[0m     resp \u001b[38;5;241m=\u001b[39m \u001b[38;5;28;43mself\u001b[39;49m\u001b[38;5;241;43m.\u001b[39;49m\u001b[43m_pool\u001b[49m\u001b[38;5;241;43m.\u001b[39;49m\u001b[43mhandle_request\u001b[49m\u001b[43m(\u001b[49m\u001b[43mreq\u001b[49m\u001b[43m)\u001b[49m\n\u001b[1;32m    235\u001b[0m \u001b[38;5;28;01massert\u001b[39;00m \u001b[38;5;28misinstance\u001b[39m(resp\u001b[38;5;241m.\u001b[39mstream, typing\u001b[38;5;241m.\u001b[39mIterable)\n\u001b[1;32m    237\u001b[0m \u001b[38;5;28;01mreturn\u001b[39;00m Response(\n\u001b[1;32m    238\u001b[0m     status_code\u001b[38;5;241m=\u001b[39mresp\u001b[38;5;241m.\u001b[39mstatus,\n\u001b[1;32m    239\u001b[0m     headers\u001b[38;5;241m=\u001b[39mresp\u001b[38;5;241m.\u001b[39mheaders,\n\u001b[1;32m    240\u001b[0m     stream\u001b[38;5;241m=\u001b[39mResponseStream(resp\u001b[38;5;241m.\u001b[39mstream),\n\u001b[1;32m    241\u001b[0m     extensions\u001b[38;5;241m=\u001b[39mresp\u001b[38;5;241m.\u001b[39mextensions,\n\u001b[1;32m    242\u001b[0m )\n",
      "File \u001b[0;32m~/Documentos/estudostccc/env/lib/python3.12/site-packages/httpcore/_sync/connection_pool.py:216\u001b[0m, in \u001b[0;36mConnectionPool.handle_request\u001b[0;34m(self, request)\u001b[0m\n\u001b[1;32m    213\u001b[0m         closing \u001b[38;5;241m=\u001b[39m \u001b[38;5;28mself\u001b[39m\u001b[38;5;241m.\u001b[39m_assign_requests_to_connections()\n\u001b[1;32m    215\u001b[0m     \u001b[38;5;28mself\u001b[39m\u001b[38;5;241m.\u001b[39m_close_connections(closing)\n\u001b[0;32m--> 216\u001b[0m     \u001b[38;5;28;01mraise\u001b[39;00m exc \u001b[38;5;28;01mfrom\u001b[39;00m \u001b[38;5;28;01mNone\u001b[39;00m\n\u001b[1;32m    218\u001b[0m \u001b[38;5;66;03m# Return the response. Note that in this case we still have to manage\u001b[39;00m\n\u001b[1;32m    219\u001b[0m \u001b[38;5;66;03m# the point at which the response is closed.\u001b[39;00m\n\u001b[1;32m    220\u001b[0m \u001b[38;5;28;01massert\u001b[39;00m \u001b[38;5;28misinstance\u001b[39m(response\u001b[38;5;241m.\u001b[39mstream, Iterable)\n",
      "File \u001b[0;32m~/Documentos/estudostccc/env/lib/python3.12/site-packages/httpcore/_sync/connection_pool.py:196\u001b[0m, in \u001b[0;36mConnectionPool.handle_request\u001b[0;34m(self, request)\u001b[0m\n\u001b[1;32m    192\u001b[0m connection \u001b[38;5;241m=\u001b[39m pool_request\u001b[38;5;241m.\u001b[39mwait_for_connection(timeout\u001b[38;5;241m=\u001b[39mtimeout)\n\u001b[1;32m    194\u001b[0m \u001b[38;5;28;01mtry\u001b[39;00m:\n\u001b[1;32m    195\u001b[0m     \u001b[38;5;66;03m# Send the request on the assigned connection.\u001b[39;00m\n\u001b[0;32m--> 196\u001b[0m     response \u001b[38;5;241m=\u001b[39m \u001b[43mconnection\u001b[49m\u001b[38;5;241;43m.\u001b[39;49m\u001b[43mhandle_request\u001b[49m\u001b[43m(\u001b[49m\n\u001b[1;32m    197\u001b[0m \u001b[43m        \u001b[49m\u001b[43mpool_request\u001b[49m\u001b[38;5;241;43m.\u001b[39;49m\u001b[43mrequest\u001b[49m\n\u001b[1;32m    198\u001b[0m \u001b[43m    \u001b[49m\u001b[43m)\u001b[49m\n\u001b[1;32m    199\u001b[0m \u001b[38;5;28;01mexcept\u001b[39;00m ConnectionNotAvailable:\n\u001b[1;32m    200\u001b[0m     \u001b[38;5;66;03m# In some cases a connection may initially be available to\u001b[39;00m\n\u001b[1;32m    201\u001b[0m     \u001b[38;5;66;03m# handle a request, but then become unavailable.\u001b[39;00m\n\u001b[1;32m    202\u001b[0m     \u001b[38;5;66;03m#\u001b[39;00m\n\u001b[1;32m    203\u001b[0m     \u001b[38;5;66;03m# In this case we clear the connection and try again.\u001b[39;00m\n\u001b[1;32m    204\u001b[0m     pool_request\u001b[38;5;241m.\u001b[39mclear_connection()\n",
      "File \u001b[0;32m~/Documentos/estudostccc/env/lib/python3.12/site-packages/httpcore/_sync/connection.py:101\u001b[0m, in \u001b[0;36mHTTPConnection.handle_request\u001b[0;34m(self, request)\u001b[0m\n\u001b[1;32m     98\u001b[0m     \u001b[38;5;28mself\u001b[39m\u001b[38;5;241m.\u001b[39m_connect_failed \u001b[38;5;241m=\u001b[39m \u001b[38;5;28;01mTrue\u001b[39;00m\n\u001b[1;32m     99\u001b[0m     \u001b[38;5;28;01mraise\u001b[39;00m exc\n\u001b[0;32m--> 101\u001b[0m \u001b[38;5;28;01mreturn\u001b[39;00m \u001b[38;5;28;43mself\u001b[39;49m\u001b[38;5;241;43m.\u001b[39;49m\u001b[43m_connection\u001b[49m\u001b[38;5;241;43m.\u001b[39;49m\u001b[43mhandle_request\u001b[49m\u001b[43m(\u001b[49m\u001b[43mrequest\u001b[49m\u001b[43m)\u001b[49m\n",
      "File \u001b[0;32m~/Documentos/estudostccc/env/lib/python3.12/site-packages/httpcore/_sync/http11.py:143\u001b[0m, in \u001b[0;36mHTTP11Connection.handle_request\u001b[0;34m(self, request)\u001b[0m\n\u001b[1;32m    141\u001b[0m     \u001b[38;5;28;01mwith\u001b[39;00m Trace(\u001b[38;5;124m\"\u001b[39m\u001b[38;5;124mresponse_closed\u001b[39m\u001b[38;5;124m\"\u001b[39m, logger, request) \u001b[38;5;28;01mas\u001b[39;00m trace:\n\u001b[1;32m    142\u001b[0m         \u001b[38;5;28mself\u001b[39m\u001b[38;5;241m.\u001b[39m_response_closed()\n\u001b[0;32m--> 143\u001b[0m \u001b[38;5;28;01mraise\u001b[39;00m exc\n",
      "File \u001b[0;32m~/Documentos/estudostccc/env/lib/python3.12/site-packages/httpcore/_sync/http11.py:113\u001b[0m, in \u001b[0;36mHTTP11Connection.handle_request\u001b[0;34m(self, request)\u001b[0m\n\u001b[1;32m    102\u001b[0m     \u001b[38;5;28;01mpass\u001b[39;00m\n\u001b[1;32m    104\u001b[0m \u001b[38;5;28;01mwith\u001b[39;00m Trace(\n\u001b[1;32m    105\u001b[0m     \u001b[38;5;124m\"\u001b[39m\u001b[38;5;124mreceive_response_headers\u001b[39m\u001b[38;5;124m\"\u001b[39m, logger, request, kwargs\n\u001b[1;32m    106\u001b[0m ) \u001b[38;5;28;01mas\u001b[39;00m trace:\n\u001b[1;32m    107\u001b[0m     (\n\u001b[1;32m    108\u001b[0m         http_version,\n\u001b[1;32m    109\u001b[0m         status,\n\u001b[1;32m    110\u001b[0m         reason_phrase,\n\u001b[1;32m    111\u001b[0m         headers,\n\u001b[1;32m    112\u001b[0m         trailing_data,\n\u001b[0;32m--> 113\u001b[0m     ) \u001b[38;5;241m=\u001b[39m \u001b[38;5;28;43mself\u001b[39;49m\u001b[38;5;241;43m.\u001b[39;49m\u001b[43m_receive_response_headers\u001b[49m\u001b[43m(\u001b[49m\u001b[38;5;241;43m*\u001b[39;49m\u001b[38;5;241;43m*\u001b[39;49m\u001b[43mkwargs\u001b[49m\u001b[43m)\u001b[49m\n\u001b[1;32m    114\u001b[0m     trace\u001b[38;5;241m.\u001b[39mreturn_value \u001b[38;5;241m=\u001b[39m (\n\u001b[1;32m    115\u001b[0m         http_version,\n\u001b[1;32m    116\u001b[0m         status,\n\u001b[1;32m    117\u001b[0m         reason_phrase,\n\u001b[1;32m    118\u001b[0m         headers,\n\u001b[1;32m    119\u001b[0m     )\n\u001b[1;32m    121\u001b[0m network_stream \u001b[38;5;241m=\u001b[39m \u001b[38;5;28mself\u001b[39m\u001b[38;5;241m.\u001b[39m_network_stream\n",
      "File \u001b[0;32m~/Documentos/estudostccc/env/lib/python3.12/site-packages/httpcore/_sync/http11.py:186\u001b[0m, in \u001b[0;36mHTTP11Connection._receive_response_headers\u001b[0;34m(self, request)\u001b[0m\n\u001b[1;32m    183\u001b[0m timeout \u001b[38;5;241m=\u001b[39m timeouts\u001b[38;5;241m.\u001b[39mget(\u001b[38;5;124m\"\u001b[39m\u001b[38;5;124mread\u001b[39m\u001b[38;5;124m\"\u001b[39m, \u001b[38;5;28;01mNone\u001b[39;00m)\n\u001b[1;32m    185\u001b[0m \u001b[38;5;28;01mwhile\u001b[39;00m \u001b[38;5;28;01mTrue\u001b[39;00m:\n\u001b[0;32m--> 186\u001b[0m     event \u001b[38;5;241m=\u001b[39m \u001b[38;5;28;43mself\u001b[39;49m\u001b[38;5;241;43m.\u001b[39;49m\u001b[43m_receive_event\u001b[49m\u001b[43m(\u001b[49m\u001b[43mtimeout\u001b[49m\u001b[38;5;241;43m=\u001b[39;49m\u001b[43mtimeout\u001b[49m\u001b[43m)\u001b[49m\n\u001b[1;32m    187\u001b[0m     \u001b[38;5;28;01mif\u001b[39;00m \u001b[38;5;28misinstance\u001b[39m(event, h11\u001b[38;5;241m.\u001b[39mResponse):\n\u001b[1;32m    188\u001b[0m         \u001b[38;5;28;01mbreak\u001b[39;00m\n",
      "File \u001b[0;32m~/Documentos/estudostccc/env/lib/python3.12/site-packages/httpcore/_sync/http11.py:224\u001b[0m, in \u001b[0;36mHTTP11Connection._receive_event\u001b[0;34m(self, timeout)\u001b[0m\n\u001b[1;32m    221\u001b[0m     event \u001b[38;5;241m=\u001b[39m \u001b[38;5;28mself\u001b[39m\u001b[38;5;241m.\u001b[39m_h11_state\u001b[38;5;241m.\u001b[39mnext_event()\n\u001b[1;32m    223\u001b[0m \u001b[38;5;28;01mif\u001b[39;00m event \u001b[38;5;129;01mis\u001b[39;00m h11\u001b[38;5;241m.\u001b[39mNEED_DATA:\n\u001b[0;32m--> 224\u001b[0m     data \u001b[38;5;241m=\u001b[39m \u001b[38;5;28;43mself\u001b[39;49m\u001b[38;5;241;43m.\u001b[39;49m\u001b[43m_network_stream\u001b[49m\u001b[38;5;241;43m.\u001b[39;49m\u001b[43mread\u001b[49m\u001b[43m(\u001b[49m\n\u001b[1;32m    225\u001b[0m \u001b[43m        \u001b[49m\u001b[38;5;28;43mself\u001b[39;49m\u001b[38;5;241;43m.\u001b[39;49m\u001b[43mREAD_NUM_BYTES\u001b[49m\u001b[43m,\u001b[49m\u001b[43m \u001b[49m\u001b[43mtimeout\u001b[49m\u001b[38;5;241;43m=\u001b[39;49m\u001b[43mtimeout\u001b[49m\n\u001b[1;32m    226\u001b[0m \u001b[43m    \u001b[49m\u001b[43m)\u001b[49m\n\u001b[1;32m    228\u001b[0m     \u001b[38;5;66;03m# If we feed this case through h11 we'll raise an exception like:\u001b[39;00m\n\u001b[1;32m    229\u001b[0m     \u001b[38;5;66;03m#\u001b[39;00m\n\u001b[1;32m    230\u001b[0m     \u001b[38;5;66;03m#     httpcore.RemoteProtocolError: can't handle event type\u001b[39;00m\n\u001b[0;32m   (...)\u001b[0m\n\u001b[1;32m    234\u001b[0m     \u001b[38;5;66;03m# perspective. Instead we handle this case distinctly and treat\u001b[39;00m\n\u001b[1;32m    235\u001b[0m     \u001b[38;5;66;03m# it as a ConnectError.\u001b[39;00m\n\u001b[1;32m    236\u001b[0m     \u001b[38;5;28;01mif\u001b[39;00m data \u001b[38;5;241m==\u001b[39m \u001b[38;5;124mb\u001b[39m\u001b[38;5;124m\"\u001b[39m\u001b[38;5;124m\"\u001b[39m \u001b[38;5;129;01mand\u001b[39;00m \u001b[38;5;28mself\u001b[39m\u001b[38;5;241m.\u001b[39m_h11_state\u001b[38;5;241m.\u001b[39mtheir_state \u001b[38;5;241m==\u001b[39m h11\u001b[38;5;241m.\u001b[39mSEND_RESPONSE:\n",
      "File \u001b[0;32m~/Documentos/estudostccc/env/lib/python3.12/site-packages/httpcore/_backends/sync.py:126\u001b[0m, in \u001b[0;36mSyncStream.read\u001b[0;34m(self, max_bytes, timeout)\u001b[0m\n\u001b[1;32m    124\u001b[0m \u001b[38;5;28;01mwith\u001b[39;00m map_exceptions(exc_map):\n\u001b[1;32m    125\u001b[0m     \u001b[38;5;28mself\u001b[39m\u001b[38;5;241m.\u001b[39m_sock\u001b[38;5;241m.\u001b[39msettimeout(timeout)\n\u001b[0;32m--> 126\u001b[0m     \u001b[38;5;28;01mreturn\u001b[39;00m \u001b[38;5;28;43mself\u001b[39;49m\u001b[38;5;241;43m.\u001b[39;49m\u001b[43m_sock\u001b[49m\u001b[38;5;241;43m.\u001b[39;49m\u001b[43mrecv\u001b[49m\u001b[43m(\u001b[49m\u001b[43mmax_bytes\u001b[49m\u001b[43m)\u001b[49m\n",
      "\u001b[0;31mKeyboardInterrupt\u001b[0m: "
     ]
    }
   ],
   "source": [
    "# from ollama import AsyncClient, Client\n",
    "\n",
    "# client = AsyncClient(host=\"http://localhost:11435\")\n",
    "\n",
    "# stream = await client.chat(model='llama3', stream=True, messages = [\n",
    "  \n",
    "#     {\"role\": \"user\", \"content\": t},\n",
    "#   ])\n",
    "\n",
    "# print(t)\n",
    "# async for chunck in stream:\n",
    "#   print(chunck['message']['content'], end='', flush=True)\n",
    "\n",
    "\n",
    "# t = 3.27\n",
    "\n",
    "\n",
    "from ollama import Client\n",
    "import time\n",
    "\n",
    "client = Client(host='http://localhost:11435')\n",
    "\n",
    "questions = [\n",
    "    \"Como fazer um requerimento de credenciamento?\",\n",
    "    \"Quem supervisiona as operações de crédito e quais as suas demais atribuições?\",\n",
    "    \"Qual o procedimento em caso de vazamento de dados pessoais?\",\n",
    "    \"Quais equipamentos a parte contratada deve dispor para a realização dos pagamentos?\",\n",
    "    \"Uma vez realizado o credenciamento, quais são as funções do prestador de serviço?\"\n",
    "]\n",
    "\n",
    "\n",
    "\n",
    "def get_response_time(question, client):\n",
    "    start_time = time.time()\n",
    "    response = client.chat(model='llama3', messages=[\n",
    "        {\n",
    "            'role': 'user',\n",
    "            'content': question,\n",
    "        },\n",
    "    ])\n",
    "    end_time = time.time()\n",
    "    elapsed_time = end_time - start_time\n",
    "    return elapsed_time, response['message']['content']\n",
    "\n",
    "output_file = 'resultados.txt'\n",
    "\n",
    "with open(output_file, 'w', encoding='utf-8') as file:\n",
    "    # Processamento para cada pergunta\n",
    "    for question in questions:\n",
    "        file.write('---------------------\\n')\n",
    "        file.write(f\"Pergunta: {question}\\n\\n\")\n",
    "\n",
    "        total_time = 0\n",
    "        response_times = []\n",
    "\n",
    "        for i in range(5):\n",
    "            elapsed_time, response = get_response_time(searchQuery(question), client)\n",
    "            response_times.append(elapsed_time)\n",
    "            total_time += elapsed_time\n",
    "            file.write(f\"Resposta {i+1}: {response}\\n\")\n",
    "            file.write(f\"(Tempo: {elapsed_time:.4f} segundos)\\n\\n\")\n",
    "\n",
    "        average_time = total_time / 5\n",
    "        file.write(f\"Tempo médio de resposta para a pergunta '{question}': {average_time:.4f} segundos\\n\")\n",
    "        file.write(f\"Tempos de resposta: {response_times}\\n\\n\")\n",
    "\n",
    "print(f\"Os resultados foram salvos no arquivo '{output_file}'.\")\n",
    "\n"
   ]
  },
  {
   "cell_type": "code",
   "execution_count": 28,
   "metadata": {},
   "outputs": [],
   "source": [
    "import pathlib\n",
    "import textwrap\n",
    "\n",
    "import google.generativeai as genai\n",
    "\n",
    "from IPython.display import display\n",
    "from IPython.display import Markdown\n",
    "\n",
    "\n",
    "def to_markdown(text):\n",
    "  text = text.replace('•', '  *')\n",
    "  return Markdown(textwrap.indent(text, '> ', predicate=lambda _: True))"
   ]
  },
  {
   "cell_type": "code",
   "execution_count": 29,
   "metadata": {},
   "outputs": [
    {
     "name": "stdout",
     "output_type": "stream",
     "text": [
      "{'candidates': [{'content': {'parts': [{'text': '**Modelo de Requerimento para Credenciamento de Entidade para Solução'}], 'role': 'model'}, 'finish_reason': 1, 'index': 0, 'safety_ratings': [{'category': 9, 'probability': 1, 'blocked': False}, {'category': 8, 'probability': 1, 'blocked': False}, {'category': 7, 'probability': 1, 'blocked': False}, {'category': 10, 'probability': 1, 'blocked': False}], 'token_count': 0, 'grounding_attributions': []}], 'usage_metadata': {'prompt_token_count': 4247, 'candidates_token_count': 16, 'total_token_count': 4263}}\n",
      "{'candidates': [{'content': {'parts': [{'text': ' de Pagamento de Débitos Tributários Estaduais com Uso de Cartão de Crédito junto à SEFAZ/SE**\\n\\nAo Secretário de Estado da'}], 'role': 'model'}, 'finish_reason': 1, 'index': 0, 'safety_ratings': [{'category': 9, 'probability': 1, 'blocked': False}, {'category': 8, 'probability': 1, 'blocked': False}, {'category': 7, 'probability': 1, 'blocked': False}, {'category': 10, 'probability': 1, 'blocked': False}], 'token_count': 0, 'grounding_attributions': []}], 'usage_metadata': {'prompt_token_count': 4247, 'candidates_token_count': 48, 'total_token_count': 4295}}\n",
      "{'candidates': [{'content': {'parts': [{'text': ' SEFAZ/SE,\\n\\nSolicito concessão de credenciamento no pedido constante do presente requerimento e declaro, para todos os fins em direito admitidos e sob as penas da lei, que cumprirei todas as normas emanadas pela SEFAZ/SE.\\n\\n**Informações da Entidade**\\n\\n'}], 'role': 'model'}, 'finish_reason': 1, 'index': 0, 'safety_ratings': [{'category': 9, 'probability': 1, 'blocked': False}, {'category': 8, 'probability': 1, 'blocked': False}, {'category': 7, 'probability': 1, 'blocked': False}, {'category': 10, 'probability': 1, 'blocked': False}], 'token_count': 0, 'grounding_attributions': []}], 'usage_metadata': {'prompt_token_count': 4247, 'candidates_token_count': 111, 'total_token_count': 4358}}\n",
      "{'candidates': [{'content': {'parts': [{'text': '| **Campo** | **Informação** |\\n|---|---|\\n| Razão Social | [Informe a razão social da entidade] |\\n| Nome de Fantasia | [Informe o nome de fantasia da entidade] |\\n| CNPJ | [Informe o CNPJ da entidade] |\\n| Inscrição Estadual | [Informe a inscrição estadual da entidade] |\\n| Inscrição Municipal | [Informe a inscrição municipal da entidade] |\\n| Endereço | [Informe o endereço completo da entidade] |\\n| Complemento | [Informe o complemento do endereço] |\\n| Cidade/UF | [Informe a cidade e estado da'}], 'role': 'model'}, 'finish_reason': 1, 'index': 0, 'safety_ratings': [{'category': 9, 'probability': 1, 'blocked': False}, {'category': 8, 'probability': 1, 'blocked': False}, {'category': 7, 'probability': 1, 'blocked': False}, {'category': 10, 'probability': 1, 'blocked': False}], 'token_count': 0, 'grounding_attributions': []}], 'usage_metadata': {'prompt_token_count': 4247, 'candidates_token_count': 239, 'total_token_count': 4486}}\n",
      "{'candidates': [{'content': {'parts': [{'text': ' entidade] |\\n| Bairro | [Informe o bairro da entidade] |\\n| CEP | [Informe o CEP da entidade] |\\n| Fone Fixo | [Informe o telefone fixo da entidade] |\\n| Fone Celular | [Informe o telefone celular da entidade] |\\n| E-mail | [Informe o e-mail da entidade] |\\n| Representante Legal | [Informe o nome do representante legal da entidade] |\\n| CPF | [Informe o CPF do representante legal da entidade] |\\n\\n**Declaração de Autenticidade**\\n\\nO requerente, através de seu representante subescrevente, declara a autenticidade de todos os documentos e informações apresentados à SEFAZ/SE, sob as penas da lei. Fica ciente, ainda, que a SEFAZ/SE poderá, a qualquer tempo, solicitar a apresentação das vias originais dos documentos protocolados virtualmente para análise.\\n\\n[Cidade], [Dia] de [Mês] de [Ano]\\n\\nAssinatura Digital do Responsável Legal da Entidade'}], 'role': 'model'}, 'finish_reason': 1, 'index': 0, 'safety_ratings': [{'category': 9, 'probability': 1, 'blocked': False}, {'category': 8, 'probability': 1, 'blocked': False}, {'category': 7, 'probability': 1, 'blocked': False}, {'category': 10, 'probability': 1, 'blocked': False}], 'token_count': 0, 'grounding_attributions': []}], 'usage_metadata': {'prompt_token_count': 4247, 'candidates_token_count': 462, 'total_token_count': 4709}}\n"
     ]
    }
   ],
   "source": [
    "import os\n",
    "\n",
    "from dotenv import load_dotenv\n",
    "\n",
    "load_dotenv()\n",
    "\n",
    "\n",
    "api_key = os.getenv(\"GOOGLE_API_KEY\")\n",
    "\n",
    "genai.configure(api_key=api_key)\n",
    "\n",
    "\n",
    "\n",
    "\n",
    "model = genai.GenerativeModel('gemini-1.0-pro')\n",
    "\n",
    "response = await model.generate_content_async(t, stream=True)\n",
    "\n",
    "async for chunk in response:\n",
    "  print(chunk.to_dict())\n",
    "  # to_markdown(chunk.text)\n"
   ]
  },
  {
   "cell_type": "markdown",
   "metadata": {},
   "source": [
    "- bert eh encoded nao decoded.\n",
    "- olhar modelos da apple - pegar link com gabes (open elm) https://huggingface.co/apple/OpenELM\n",
    "- "
   ]
  }
 ],
 "metadata": {
  "kernelspec": {
   "display_name": "env",
   "language": "python",
   "name": "python3"
  },
  "language_info": {
   "codemirror_mode": {
    "name": "ipython",
    "version": 3
   },
   "file_extension": ".py",
   "mimetype": "text/x-python",
   "name": "python",
   "nbconvert_exporter": "python",
   "pygments_lexer": "ipython3",
   "version": "3.12.3"
  }
 },
 "nbformat": 4,
 "nbformat_minor": 2
}
