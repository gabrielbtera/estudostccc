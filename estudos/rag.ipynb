{
 "cells": [
  {
   "cell_type": "markdown",
   "metadata": {},
   "source": [
    "pip install pyMuPDF"
   ]
  },
  {
   "cell_type": "code",
   "execution_count": 119,
   "metadata": {},
   "outputs": [],
   "source": [
    "import fitz\n",
    "from typing import List\n",
    "from vectordb import Memory\n",
    "\n"
   ]
  },
  {
   "cell_type": "code",
   "execution_count": 120,
   "metadata": {},
   "outputs": [],
   "source": [
    "def formatar(txt: str):\n",
    "  return txt.replace('\\n', '\\n')"
   ]
  },
  {
   "cell_type": "code",
   "execution_count": 121,
   "metadata": {},
   "outputs": [],
   "source": [
    "doc = fitz.open('./credenciamento.pdf')\n",
    "\n",
    "\n",
    "def pdf_para__lista(doc):\n",
    "  total_paginas = doc.page_count\n",
    "  lista_conteudo = []\n",
    "\n",
    "  for i in range(total_paginas):\n",
    "    texto = doc.load_page(i).get_text('text')\n",
    "    texto = formatar(texto)\n",
    "    pagina = 'Página ' + str(i + 1) + ' - '\n",
    "    lista_conteudo.append(pagina + texto)\n",
    "  \n",
    "  doc.close()\n",
    "  return lista_conteudo\n",
    "\n",
    "# pdf_para__lista(doc)\n"
   ]
  },
  {
   "cell_type": "code",
   "execution_count": 122,
   "metadata": {},
   "outputs": [
    {
     "data": {
      "text/plain": [
       "{'section_name': {'EDITAL DE CREDENCIAMENTO DE OPERADORAS DE CARTÃO'},\n",
       " 'Pagina': {1}}"
      ]
     },
     "execution_count": 122,
     "metadata": {},
     "output_type": "execute_result"
    }
   ],
   "source": [
    "class DataChuk:\n",
    "    def __init__(self, metadata, content) -> None:\n",
    "        self.metadata = metadata\n",
    "        self.content = content\n",
    "\n",
    "\n",
    "class Document:\n",
    "    def __init__(self):\n",
    "        self.sections = []\n",
    "\n",
    "    def add_section(self, section_name, page_number, content):\n",
    "        section_data = {\n",
    "            'meta_data': {'section_name': {section_name}, 'Pagina': {page_number}},\n",
    "            'section_content': content\n",
    "        }\n",
    "\n",
    "        data = DataChuk({'section_name': {section_name}, 'Pagina': {page_number}}, content)\n",
    "        self.sections.append(data)\n",
    "    \n",
    "    def __repr__(self):\n",
    "        return f\"DataChuk({self.sections})\"\n",
    "\n",
    "def extract_sections(pdf_path) -> List[DataChuk]:\n",
    "    document = fitz.open(pdf_path)\n",
    "    doc_object =  Document()\n",
    "    current_section = None\n",
    "    \n",
    "    for page_num in range(len(document)):\n",
    "        page = document.load_page(page_num)\n",
    "        text = page.get_text(\"text\")\n",
    "        lines = text.split('\\n')\n",
    "        \n",
    "        for line in lines:\n",
    "            if is_section_header(line):\n",
    "                current_section = line.strip()\n",
    "                doc_object.add_section(current_section, page_num + 1, '')\n",
    "            if current_section:\n",
    "                doc_object.sections[-1].content += line + '\\n'\n",
    "    \n",
    "    return doc_object\n",
    "\n",
    "def is_section_header(line):\n",
    " \n",
    "    return len(line) > 0 and (line.isupper() or line.endswith(':'))\n",
    "\n",
    "\n",
    "doc_object = extract_sections(doc)\n",
    "\n",
    "\n",
    "sections = doc_object.sections\n",
    "\n",
    "sections[0].metadata\n",
    "\n"
   ]
  },
  {
   "cell_type": "code",
   "execution_count": 143,
   "metadata": {},
   "outputs": [
    {
     "name": "stdout",
     "output_type": "stream",
     "text": [
      "Initiliazing embeddings:  normal\n"
     ]
    },
    {
     "name": "stderr",
     "output_type": "stream",
     "text": [
      "/Users/gabrieljesus/Documents/tcc/exprerimentos/env/lib/python3.9/site-packages/huggingface_hub/file_download.py:1132: FutureWarning: `resume_download` is deprecated and will be removed in version 1.0.0. Downloads always resume when possible. If you want to force a new download, use `force_download=True`.\n",
      "  warnings.warn(\n"
     ]
    },
    {
     "name": "stdout",
     "output_type": "stream",
     "text": [
      "OK.\n"
     ]
    }
   ],
   "source": [
    "memory = Memory(chunking_strategy={\"mode\": 'sliding_window', \"window_size\": 300, \"overlap\": 8})\n",
    "\n",
    "\n",
    "\n",
    "\n"
   ]
  },
  {
   "cell_type": "code",
   "execution_count": 144,
   "metadata": {},
   "outputs": [],
   "source": [
    "for i in range(len(sections)):\n",
    "  capitulo = sections[i].content\n",
    "  metadata = sections[i].metadata\n",
    "  memory.save(capitulo, metadata)"
   ]
  },
  {
   "cell_type": "code",
   "execution_count": 169,
   "metadata": {},
   "outputs": [
    {
     "data": {
      "text/plain": [
       "[{'chunk': 'SEFAZ/SE. 4.9 A qualificação técnica deve ser comprovada por meio de: 4.9.1 Certidão Negativa de Exercício de Administração em Instituição em Liquidação Extrajudicial, emitida pelo BACEN, dos ocupantes da função de direção, administração ou representação, em observância ao disposto na Lei Complementar federal nº 64, de 18 de maio de 1990, art. 1º, inciso I, alínea “i”, de que não se encontra em regime liquidação extrajudicial, obtida por meio do sítio eletrônico https://www3.bcb.gov.br/nadaconsta/emitirCertidaoRegesp; 4.9.2 habilitação para funcionar como subadquirente, com plena capacidade técnica e funcional para realizar a captura de dados dos DAE’s, e o processamento de pagamentos por meio eletrônico, mediante uso de cartões de crédito das principais bandeiras aceitos no mercado financeiro brasileiro; 4.9.3 demonstrativo que aderiu e está cumprindo as regras estabelecidas pelas bandeiras de cartão de crédito, através do contrato de participação nos arranjos de pagamento, cuja fatia de mercado represente a maior parte dos negócios com cartões no país; 4.9.4 certificado PCI DSS válido, expedido por empresa de auditoria oficialmente credenciada pelo órgão competente em nome da própria requerente, declarando que a mesma opera em plena conformidade com os padrões por ele estabelecidos; 4.9.5 demonstrativo que possui, na organização institucional, canal aberto de ouvidoria ou serviço de atendimento ao consumidor, nos termos da Resolução BACEN nº 4.433, de 23 de julho de 2015; 4.9.6 atestados de capacidade técnica, fornecidos, ao menos, por 3 (três) pessoas jurídicas de direito público, de que a requerente executa ou executou serviços compatíveis ao objeto deste Edital, em características, quantidades, capacidade de operação e prazos; 4.9.7 declaração, fornecida pela instituição bancária contratada pela SEFAZ/SE, de que é agente recolhedor de receitas públicas estaduais, nos termos do Decreto nº 40.492, de 2019, afirmando que: a) a requerente possui domicílio bancário no referido banco; e b) o banco se compromete efetuar o',\n",
       "  'metadata': {'section_name': {'SEFAZ/SE.'}, 'Pagina': {7}},\n",
       "  'distance': 0.38996696},\n",
       " {'chunk': 'ANEXO I - REQUERIMENTO PARA CREDENCIAMENTO DE ENTIDADE',\n",
       "  'metadata': {'section_name': {'ANEXO I - REQUERIMENTO PARA CREDENCIAMENTO DE ENTIDADE'},\n",
       "   'Pagina': {20}},\n",
       "  'distance': 0.4300692},\n",
       " {'chunk': '8.8 A subadquirente deve estar habilitada por algum adquirente que atenda as exigências dispostas neste Regulamento. 8.9 A prestadora de serviço deve disponibilizar meios, instrumentos e equipamentos tecnológicos adequados, eficientes e suficientes, com interface fácil e acessível a qualquer cidadã(ão), sem qualquer ônus para o Estado de Sergipe, para que o contribuinte possa contratar o financiamento do valor necessário, realizar o pagamento da dívida e quitar o DAE nas seguintes plataformas: 8.9.1 equipamento de leitura de cartão de crédito “pin pad” ou “totem” de autoatendimento (ATM) presencial nas CEAC’s do Estado de Sergipe, responsabilizando-se pela instalação, manutenção e regular funcionamento; 8.9.2 “website” na página de internet www.sefaz.se.gov.br; e 8.9.3 aplicativo “app” para smartphone. 8.10 A solução de pagamento constante neste regulamento deve estar plenamente integrada ao sistema de arrecadação da SEFAZ/SE, de modo a possibilitar a realização de consulta sobre a autenticidade e validade do DAE; o controle da transação com o cartão de crédito, do pagamento do débito tributário e da emissão dos comprovantes ao contribuinte; a conciliação dos valores pagos e efetivamente liquidados perante o agente recolhedor e a emissão de relatórios parciais dos recolhimentos realizadas. 8.11 A segurança da operação, no modo presencial ou pela “web”, é de responsabilidade exclusiva da prestadora do serviço, consubstanciando risco operacional inerente do negócio financeiro que realizar.',\n",
       "  'metadata': {'section_name': {'SEFAZ;'}, 'Pagina': {12}},\n",
       "  'distance': 0.45298845},\n",
       " {'chunk': 'DE CRÉDITO INTEGRANTES DO SISTEMA DE PAGAMENTO',\n",
       "  'metadata': {'section_name': {'DE CRÉDITO INTEGRANTES DO SISTEMA DE PAGAMENTO'},\n",
       "   'Pagina': {1}},\n",
       "  'distance': 0.4543578},\n",
       " {'chunk': 'FLUXO DE INTEGRAÇÃO DE OUTROS SERVIÇOS ENTRE OPERADORAS CREDENCIADAS E SEFAZ/SE',\n",
       "  'metadata': {'section_name': {'FLUXO DE INTEGRAÇÃO DE OUTROS SERVIÇOS ENTRE OPERADORAS CREDENCIADAS E SEFAZ/SE'},\n",
       "   'Pagina': {47}},\n",
       "  'distance': 0.46486503}]"
      ]
     },
     "execution_count": 169,
     "metadata": {},
     "output_type": "execute_result"
    }
   ],
   "source": [
    "memory.search('A qualificação técnica deve ser comprovada por meio de', top_n=5)"
   ]
  },
  {
   "cell_type": "code",
   "execution_count": 3,
   "metadata": {},
   "outputs": [
    {
     "data": {
      "text/plain": [
       "98898"
      ]
     },
     "execution_count": 3,
     "metadata": {},
     "output_type": "execute_result"
    }
   ],
   "source": [
    "# convert the document to markdown\n",
    "import pymupdf4llm\n",
    "md_text = pymupdf4llm.to_markdown(\"credenciamento.pdf\", page_chunks=False, write_images=False)\n",
    "\n",
    "\n",
    "\n",
    "# Write the text to some file in UTF8-encoding\n",
    "\n",
    "pathlib.Path(\"output.md\").write_bytes(md_text.encode())\n",
    "\n",
    "\n",
    "# md_text[-1]"
   ]
  },
  {
   "cell_type": "code",
   "execution_count": 4,
   "metadata": {},
   "outputs": [
    {
     "data": {
      "text/plain": [
       "'I'"
      ]
     },
     "execution_count": 4,
     "metadata": {},
     "output_type": "execute_result"
    }
   ],
   "source": []
  }
 ],
 "metadata": {
  "kernelspec": {
   "display_name": "env",
   "language": "python",
   "name": "python3"
  },
  "language_info": {
   "codemirror_mode": {
    "name": "ipython",
    "version": 3
   },
   "file_extension": ".py",
   "mimetype": "text/x-python",
   "name": "python",
   "nbconvert_exporter": "python",
   "pygments_lexer": "ipython3",
   "version": "3.9.6"
  }
 },
 "nbformat": 4,
 "nbformat_minor": 2
}
